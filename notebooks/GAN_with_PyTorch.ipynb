{
  "nbformat": 4,
  "nbformat_minor": 0,
  "metadata": {
    "colab": {
      "name": "GAN with PyTorch.ipynb",
      "provenance": [],
      "collapsed_sections": [],
      "toc_visible": true,
      "authorship_tag": "ABX9TyOujYfTgU6ksrtAGBw3UwYt",
      "include_colab_link": true
    },
    "kernelspec": {
      "name": "python3",
      "display_name": "Python 3"
    },
    "accelerator": "GPU"
  },
  "cells": [
    {
      "cell_type": "markdown",
      "metadata": {
        "id": "view-in-github",
        "colab_type": "text"
      },
      "source": [
        "<a href=\"https://colab.research.google.com/github/shramkoartem/HackerRank/blob/master/notebooks/GAN_with_PyTorch.ipynb\" target=\"_parent\"><img src=\"https://colab.research.google.com/assets/colab-badge.svg\" alt=\"Open In Colab\"/></a>"
      ]
    },
    {
      "cell_type": "code",
      "metadata": {
        "id": "X9e2AOlLiYPK"
      },
      "source": [
        ""
      ],
      "execution_count": null,
      "outputs": []
    },
    {
      "cell_type": "markdown",
      "metadata": {
        "id": "ovBfrHEZwIwl"
      },
      "source": [
        "# First NN with PyTorch\n",
        "p.30"
      ]
    },
    {
      "cell_type": "code",
      "metadata": {
        "colab": {
          "base_uri": "https://localhost:8080/"
        },
        "id": "BT2rs5d_wNdi",
        "outputId": "2b6c7fd1-42d5-411b-aa7b-c28eae91e933"
      },
      "source": [
        "# download mnist dataset\n",
        "\n",
        "!wget https://pjreddie.com/media/files/mnist_train.csv\n",
        "!wget https://pjreddie.com/media/files/mnist_test.csv"
      ],
      "execution_count": null,
      "outputs": [
        {
          "output_type": "stream",
          "text": [
            "--2021-01-28 08:49:14--  https://pjreddie.com/media/files/mnist_train.csv\n",
            "Resolving pjreddie.com (pjreddie.com)... 128.208.4.108\n",
            "Connecting to pjreddie.com (pjreddie.com)|128.208.4.108|:443... connected.\n",
            "HTTP request sent, awaiting response... 200 OK\n",
            "Length: 109575994 (104M) [application/octet-stream]\n",
            "Saving to: ‘mnist_train.csv’\n",
            "\n",
            "mnist_train.csv     100%[===================>] 104.50M   509KB/s    in 3m 22s  \n",
            "\n",
            "2021-01-28 08:52:36 (530 KB/s) - ‘mnist_train.csv’ saved [109575994/109575994]\n",
            "\n",
            "--2021-01-28 08:52:36--  https://pjreddie.com/media/files/mnist_test.csv\n",
            "Resolving pjreddie.com (pjreddie.com)... 128.208.4.108\n",
            "Connecting to pjreddie.com (pjreddie.com)|128.208.4.108|:443... connected.\n",
            "HTTP request sent, awaiting response... 200 OK\n",
            "Length: 18289443 (17M) [application/octet-stream]\n",
            "Saving to: ‘mnist_test.csv’\n",
            "\n",
            "mnist_test.csv      100%[===================>]  17.44M   369KB/s    in 51s     \n",
            "\n",
            "2021-01-28 08:53:27 (348 KB/s) - ‘mnist_test.csv’ saved [18289443/18289443]\n",
            "\n"
          ],
          "name": "stdout"
        }
      ]
    },
    {
      "cell_type": "code",
      "metadata": {
        "id": "VVkC43QDwj75"
      },
      "source": [
        "# from google.colab import drive\n",
        "# drive.mount(\"./mount\")"
      ],
      "execution_count": null,
      "outputs": []
    },
    {
      "cell_type": "code",
      "metadata": {
        "id": "6OvU_IhawYK0"
      },
      "source": [
        "import pandas as pd\n",
        "import numpy as np\n",
        "import matplotlib.pyplot as plt\n"
      ],
      "execution_count": null,
      "outputs": []
    },
    {
      "cell_type": "code",
      "metadata": {
        "colab": {
          "base_uri": "https://localhost:8080/"
        },
        "id": "THPga4UxwztD",
        "outputId": "e103fb70-97a1-4e8c-9479-a2eea04047d5"
      },
      "source": [
        "# io\n",
        "df = pd.read_csv(\"mnist_train.csv\", header=None)\n",
        "df.info()"
      ],
      "execution_count": null,
      "outputs": [
        {
          "output_type": "stream",
          "text": [
            "<class 'pandas.core.frame.DataFrame'>\n",
            "RangeIndex: 60000 entries, 0 to 59999\n",
            "Columns: 785 entries, 0 to 784\n",
            "dtypes: int64(785)\n",
            "memory usage: 359.3 MB\n"
          ],
          "name": "stdout"
        }
      ]
    },
    {
      "cell_type": "code",
      "metadata": {
        "colab": {
          "base_uri": "https://localhost:8080/",
          "height": 281
        },
        "id": "qEl2azqjwoXP",
        "outputId": "05bab6e7-9569-4eab-ca7f-5955adda20e1"
      },
      "source": [
        "# visualizing data sample\n",
        "\n",
        "# select a sample\n",
        "row = 0\n",
        "data = df.iloc[row]\n",
        "\n",
        "# label is the first value\n",
        "label = data[0]\n",
        "\n",
        "# image data is the remaining 784 values\n",
        "image = data[1:].values.reshape(28,28)\n",
        "plt.title(\"label = \" + str(label))\n",
        "plt.imshow(image, interpolation=\"none\", cmap=\"Blues\")\n",
        "plt.show()"
      ],
      "execution_count": null,
      "outputs": [
        {
          "output_type": "display_data",
          "data": {
            "image/png": "[encoded data removed]",
            "text/plain": [
              "<Figure size 432x288 with 1 Axes>"
            ]
          },
          "metadata": {
            "tags": [],
            "needs_background": "light"
          }
        }
      ]
    },
    {
      "cell_type": "markdown",
      "metadata": {
        "id": "FwGdt29RzZ-X"
      },
      "source": [
        "## Simple Network"
      ]
    },
    {
      "cell_type": "code",
      "metadata": {
        "id": "8mGnK5lbxU-B"
      },
      "source": [
        "# torch imports\n",
        "\n",
        "import torch\n",
        "import torch.nn as nn\n",
        "\n",
        "from torch.utils.data import Dataset"
      ],
      "execution_count": null,
      "outputs": []
    },
    {
      "cell_type": "code",
      "metadata": {
        "id": "PO_d0gjUzgDT"
      },
      "source": [
        "class Classifier(nn.Module):\n",
        "  \n",
        "  # constructor __init__ called upon object creation\n",
        "  def __init__(self):\n",
        "    # initialize parent pytorch class (parents constructor)\n",
        "    super().__init__()\n",
        "    \n",
        "    self.model = nn.Sequential(\n",
        "        nn.Linear(784,200), # contains weights\n",
        "        nn.Sigmoid(), # logistic activation function\n",
        "        nn.Linear(200,10), # \"Linear\" because f(x) = w*x + b\n",
        "        nn.Sigmoid()\n",
        "    )\n",
        "\n",
        "    self.loss_function = nn.MSELoss()\n",
        "    self.optimizer = torch.optim.SGD(self.parameters(), lr=0.01)\n",
        "\n",
        "    # visualizing training progress\n",
        "    self.counter = 0\n",
        "    self.progress = []\n",
        "\n",
        "\n",
        "\n",
        "  def forward(self, inputs):\n",
        "    return self.model(inputs)\n",
        "\n",
        "  def train(self, inputs, targets):\n",
        "    # foward pass\n",
        "    outputs = self.forward(inputs)\n",
        "\n",
        "    # calculate loss\n",
        "    loss = self.loss_function(outputs, targets)\n",
        "\n",
        "    # zero gradients\n",
        "    self.optimizer.zero_grad()\n",
        "\n",
        "    # calculate gradients\n",
        "    loss.backward()\n",
        "\n",
        "    # update weights\n",
        "    self.optimizer.step() # literally take a step down the grads\n",
        "\n",
        "    # visualizing progress\n",
        "    self.counter += 1\n",
        "    if (self.counter % 10 == 0):\n",
        "      self.progress.append(loss.item())\n",
        "      pass\n",
        "  \n",
        "    if (self.counter % 1000 == 0):\n",
        "      print(f\"Iter: {self.counter:10}, Loss: {loss:10.6f}\")\n",
        "\n",
        "\n",
        "\n",
        "  def plot_progress(self):\n",
        "    df = pd.DataFrame(self.progress, columns=[\"loss\"])\n",
        "    df.plot(ylim=(0,1.0), figsize=(16,8), alpha=0.1, marker=\".\",\n",
        "            grid=True, yticks=(0, 0.25, 0.5))\n",
        "    pass\n"
      ],
      "execution_count": null,
      "outputs": []
    },
    {
      "cell_type": "markdown",
      "metadata": {
        "id": "ifr1wHXS7QFb"
      },
      "source": [
        "Just like we inherit a neural network class from nn.Module and provide a `forward()` function, for  a dataset we inherit from Dataset and provide the following two special functions:  \n",
        "- `__len__()` which returns the number of items in the dataset.  \n",
        "- `__getitem__()` which returns the nth item in the dataset. \n",
        "\n"
      ]
    },
    {
      "cell_type": "code",
      "metadata": {
        "id": "q3wfxyIb7aYu"
      },
      "source": [
        "class MnistDataset(Dataset):\n",
        "\n",
        "  def __init__(self, csv_file):\n",
        "    self.data_df = pd.read_csv(csv_file, header = None)\n",
        "    pass\n",
        "\n",
        "  def __len__(self):\n",
        "    return len(self.data_df)\n",
        "\n",
        "  def __getitem__(self, idx):\n",
        "\n",
        "    # target\n",
        "    label = self.data_df.iloc[idx, 0]\n",
        "    target = torch.zeros((10))\n",
        "    target[label] = 1.0\n",
        "\n",
        "    # image data, normalized from 0-255 to 0-1\n",
        "    image_values = torch.FloatTensor(self.data_df.iloc[idx,1:].values) / 255.0\n",
        "\n",
        "    return label, image_values, target\n",
        "\n",
        "  def plot_image(self, idx):\n",
        "    arr = self.data_df.iloc[idx,1:].values.reshape(28,28)\n",
        "    plt.title(\"label = \" + str(self.data_df.iloc[idx,0]))\n",
        "    plt.imshow(arr, interpolation='none', cmap=\"Blues\")\n",
        "    pass"
      ],
      "execution_count": null,
      "outputs": []
    },
    {
      "cell_type": "code",
      "metadata": {
        "colab": {
          "base_uri": "https://localhost:8080/",
          "height": 281
        },
        "id": "5gObibJr7BYo",
        "outputId": "fb745d29-af89-4056-ab67-a460d1457e2f"
      },
      "source": [
        "mnist_dataset = MnistDataset(\"mnist_train.csv\")\n",
        "mnist_dataset.plot_image(9)"
      ],
      "execution_count": null,
      "outputs": [
        {
          "output_type": "display_data",
          "data": {
            "image/png": "[encoded data removed]",
            "text/plain": [
              "<Figure size 432x288 with 1 Axes>"
            ]
          },
          "metadata": {
            "tags": [],
            "needs_background": "light"
          }
        }
      ]
    },
    {
      "cell_type": "code",
      "metadata": {
        "colab": {
          "base_uri": "https://localhost:8080/"
        },
        "id": "XZMI7A9U9vNk",
        "outputId": "ad2e7391-e0b5-49f4-bd43-0968f839c529"
      },
      "source": [
        "%%time\n",
        "\n",
        "# training network\n",
        "model = Classifier()\n",
        "\n",
        "epochs = 3\n",
        "\n",
        "def train(model, epochs):\n",
        "  for i in range(epochs):\n",
        "    print(\"training epoch\", i+1, \"of\", epochs)\n",
        "\n",
        "    for label, image_data_tensor, target_tensor in mnist_dataset:\n",
        "      model.train(image_data_tensor, target_tensor)\n",
        "\n",
        "  return model\n",
        "\n",
        "# train(model, epochs)"
      ],
      "execution_count": null,
      "outputs": [
        {
          "output_type": "stream",
          "text": [
            "CPU times: user 3.09 ms, sys: 13 µs, total: 3.1 ms\n",
            "Wall time: 5.59 ms\n"
          ],
          "name": "stdout"
        }
      ]
    },
    {
      "cell_type": "code",
      "metadata": {
        "colab": {
          "base_uri": "https://localhost:8080/",
          "height": 483
        },
        "id": "GfRWCQ_R-1dE",
        "outputId": "09ca01d4-7e0b-4868-9162-6792cd74feab"
      },
      "source": [
        "model.plot_progress()"
      ],
      "execution_count": null,
      "outputs": [
        {
          "output_type": "display_data",
          "data": {
            "image/png": "[encoded data removed]",
            "text/plain": [
              "<Figure size 1152x576 with 1 Axes>"
            ]
          },
          "metadata": {
            "tags": [],
            "needs_background": "light"
          }
        }
      ]
    },
    {
      "cell_type": "code",
      "metadata": {
        "colab": {
          "base_uri": "https://localhost:8080/",
          "height": 281
        },
        "id": "r5TU3IFO_K0f",
        "outputId": "0938da0d-9535-4cf6-85ce-6a8c56be67e9"
      },
      "source": [
        "# test performance\n",
        "\n",
        "mnist_test_dataset = MnistDataset(\"mnist_test.csv\")\n",
        "\n",
        "record = 19\n",
        "\n",
        "mnist_test_dataset.plot_image(record)"
      ],
      "execution_count": null,
      "outputs": [
        {
          "output_type": "display_data",
          "data": {
            "image/png": "[encoded data removed]",
            "text/plain": [
              "<Figure size 432x288 with 1 Axes>"
            ]
          },
          "metadata": {
            "tags": [],
            "needs_background": "light"
          }
        }
      ]
    },
    {
      "cell_type": "code",
      "metadata": {
        "colab": {
          "base_uri": "https://localhost:8080/",
          "height": 283
        },
        "id": "zCyxzx3FWewf",
        "outputId": "1e9e410c-abc8-4a82-98ab-98c4de32bc15"
      },
      "source": [
        "image_data = mnist_dataset[record][1]\n",
        "\n",
        "# query the trained network\n",
        "output = model.forward(image_data)\n",
        "\n",
        "pd.DataFrame(output.detach().numpy()).plot(kind=\"bar\", legend=False, ylim=(0,1))"
      ],
      "execution_count": null,
      "outputs": [
        {
          "output_type": "execute_result",
          "data": {
            "text/plain": [
              "<matplotlib.axes._subplots.AxesSubplot at 0x7ff06ede6940>"
            ]
          },
          "metadata": {
            "tags": []
          },
          "execution_count": 53
        },
        {
          "output_type": "display_data",
          "data": {
            "image/png": "[encoded data removed]",
            "text/plain": [
              "<Figure size 432x288 with 1 Axes>"
            ]
          },
          "metadata": {
            "tags": [],
            "needs_background": "light"
          }
        }
      ]
    },
    {
      "cell_type": "code",
      "metadata": {
        "colab": {
          "base_uri": "https://localhost:8080/"
        },
        "id": "ZbWP-Z1BgVOK",
        "outputId": "c1660dc4-78dc-4773-abe6-debdfb906f03"
      },
      "source": [
        "# test model on test data\n",
        "\n",
        "mnist_test_dataset = MnistDataset(\"mnist_test.csv\")\n",
        "\n",
        "score = 0\n",
        "items = 0\n",
        "\n",
        "for label, image_data_tensor, target_tensor in mnist_test_dataset:\n",
        "  answer = model.forward(image_data_tensor).detach().numpy()\n",
        "  if answer.argmax == label:\n",
        "    score += 1\n",
        "\n",
        "  items +=1\n",
        "\n",
        "print(score, items, score/items)"
      ],
      "execution_count": null,
      "outputs": [
        {
          "output_type": "stream",
          "text": [
            "0 10000 0.0\n"
          ],
          "name": "stdout"
        }
      ]
    },
    {
      "cell_type": "markdown",
      "metadata": {
        "id": "_BmvUCmPLRY-"
      },
      "source": [
        "# Refinements"
      ]
    },
    {
      "cell_type": "markdown",
      "metadata": {
        "id": "TRoPQTU7LSt_"
      },
      "source": [
        "## Loss Function\n",
        "\n",
        "For the second task, a classification task, a different kind of loss function makes more sense.  A popular one is called the Binary Cross Entropy loss, and it tries to penalise wrong but  confident outputs as well as correct but not so confident outputs. PyTorch provides this as  `nn.BCELoss(). `\n"
      ]
    },
    {
      "cell_type": "code",
      "metadata": {
        "id": "wIsR_wjXLaHO"
      },
      "source": [
        "class Classifier(nn.Module):\n",
        "  \n",
        "  # constructor __init__ called upon object creation\n",
        "  def __init__(self):\n",
        "    # initialize parent pytorch class (parents constructor)\n",
        "    super().__init__()\n",
        "    \n",
        "    self.model = nn.Sequential(\n",
        "        nn.Linear(784,200), # contains weights\n",
        "        nn.Sigmoid(), # logistic activation function\n",
        "        nn.Linear(200,10), # \"Linear\" because f(x) = w*x + b\n",
        "        nn.Sigmoid()\n",
        "    )\n",
        "\n",
        "    self.loss_function = nn.BCELoss()\n",
        "    self.optimizer = torch.optim.SGD(self.parameters(), lr=0.01)\n",
        "\n",
        "    # visualizing training progress\n",
        "    self.counter = 0\n",
        "    self.progress = []\n",
        "\n",
        "\n",
        "\n",
        "  def forward(self, inputs):\n",
        "    return self.model(inputs)\n",
        "\n",
        "  def train(self, inputs, targets):\n",
        "    # foward pass\n",
        "    outputs = self.forward(inputs)\n",
        "\n",
        "    # calculate loss\n",
        "    loss = self.loss_function(outputs, targets)\n",
        "\n",
        "    # zero gradients\n",
        "    self.optimizer.zero_grad()\n",
        "\n",
        "    # calculate gradients\n",
        "    loss.backward()\n",
        "\n",
        "    # update weights\n",
        "    self.optimizer.step() # literally take a step down the grads\n",
        "\n",
        "    # visualizing progress\n",
        "    self.counter += 1\n",
        "    if (self.counter % 10 == 0):\n",
        "      self.progress.append(loss.item())\n",
        "      pass\n",
        "  \n",
        "    if (self.counter % 1000 == 0):\n",
        "      print(f\"Iter: {self.counter:10}, Loss: {loss:10.6f}\")\n",
        "\n",
        "\n",
        "\n",
        "  def plot_progress(self):\n",
        "    df = pd.DataFrame(self.progress, columns=[\"loss\"])\n",
        "    df.plot(ylim=(0,1.0), figsize=(16,8), alpha=0.1, marker=\".\",\n",
        "            grid=True, yticks=(0, 0.25, 0.5))\n",
        "    pass\n"
      ],
      "execution_count": null,
      "outputs": []
    },
    {
      "cell_type": "code",
      "metadata": {
        "id": "-4r1LKR2hXQe",
        "colab": {
          "base_uri": "https://localhost:8080/"
        },
        "outputId": "0cb0092f-339b-4bc7-8f0d-2bdabf920382"
      },
      "source": [
        "model = Classifier()\n",
        "\n",
        "model = train(model, epochs=3)"
      ],
      "execution_count": null,
      "outputs": [
        {
          "output_type": "stream",
          "text": [
            "training epoch 1 of 3\n",
            "counter = 1000\n",
            "loss = 0.3282\n",
            "counter = 2000\n",
            "loss = 0.3090\n",
            "counter = 3000\n",
            "loss = 0.3250\n",
            "counter = 4000\n",
            "loss = 0.2930\n",
            "counter = 5000\n",
            "loss = 0.3351\n",
            "counter = 6000\n",
            "loss = 0.2956\n",
            "counter = 7000\n",
            "loss = 0.3080\n",
            "counter = 8000\n",
            "loss = 0.3112\n",
            "counter = 9000\n",
            "loss = 0.3291\n",
            "counter = 10000\n",
            "loss = 0.2586\n",
            "counter = 11000\n",
            "loss = 0.2636\n",
            "counter = 12000\n",
            "loss = 0.2842\n",
            "counter = 13000\n",
            "loss = 0.3006\n",
            "counter = 14000\n",
            "loss = 0.2632\n",
            "counter = 15000\n",
            "loss = 0.2477\n",
            "counter = 16000\n",
            "loss = 0.1643\n",
            "counter = 17000\n",
            "loss = 0.2262\n",
            "counter = 18000\n",
            "loss = 0.2657\n",
            "counter = 19000\n",
            "loss = 0.2300\n",
            "counter = 20000\n",
            "loss = 0.2050\n",
            "counter = 21000\n",
            "loss = 0.2308\n",
            "counter = 22000\n",
            "loss = 0.1534\n",
            "counter = 23000\n",
            "loss = 0.1557\n",
            "counter = 24000\n",
            "loss = 0.1581\n",
            "counter = 25000\n",
            "loss = 0.1988\n",
            "counter = 26000\n",
            "loss = 0.0889\n",
            "counter = 27000\n",
            "loss = 0.0943\n",
            "counter = 28000\n",
            "loss = 0.1403\n",
            "counter = 29000\n",
            "loss = 0.1667\n",
            "counter = 30000\n",
            "loss = 0.1851\n",
            "counter = 31000\n",
            "loss = 0.1956\n",
            "counter = 32000\n",
            "loss = 0.2187\n",
            "counter = 33000\n",
            "loss = 0.0774\n",
            "counter = 34000\n",
            "loss = 0.2624\n",
            "counter = 35000\n",
            "loss = 0.0862\n",
            "counter = 36000\n",
            "loss = 0.0839\n",
            "counter = 37000\n",
            "loss = 0.2181\n",
            "counter = 38000\n",
            "loss = 0.0796\n",
            "counter = 39000\n",
            "loss = 0.2035\n",
            "counter = 40000\n",
            "loss = 0.3937\n",
            "counter = 41000\n",
            "loss = 0.0358\n",
            "counter = 42000\n",
            "loss = 0.1304\n",
            "counter = 43000\n",
            "loss = 0.0645\n",
            "counter = 44000\n",
            "loss = 0.1711\n",
            "counter = 45000\n",
            "loss = 0.1227\n",
            "counter = 46000\n",
            "loss = 0.1091\n",
            "counter = 47000\n",
            "loss = 0.3619\n",
            "counter = 48000\n",
            "loss = 0.0842\n",
            "counter = 49000\n",
            "loss = 0.1072\n",
            "counter = 50000\n",
            "loss = 0.1975\n",
            "counter = 51000\n",
            "loss = 0.0609\n",
            "counter = 52000\n",
            "loss = 0.0372\n",
            "counter = 53000\n",
            "loss = 0.1546\n",
            "counter = 54000\n",
            "loss = 0.4944\n",
            "counter = 55000\n",
            "loss = 0.0330\n",
            "counter = 56000\n",
            "loss = 0.0492\n",
            "counter = 57000\n",
            "loss = 0.4009\n",
            "counter = 58000\n",
            "loss = 0.0260\n",
            "counter = 59000\n",
            "loss = 0.0847\n",
            "counter = 60000\n",
            "loss = 0.1648\n",
            "training epoch 2 of 3\n",
            "counter = 61000\n",
            "loss = 0.0788\n",
            "counter = 62000\n",
            "loss = 0.0122\n",
            "counter = 63000\n",
            "loss = 0.0902\n",
            "counter = 64000\n",
            "loss = 0.0256\n",
            "counter = 65000\n",
            "loss = 0.0641\n",
            "counter = 66000\n",
            "loss = 0.0662\n",
            "counter = 67000\n",
            "loss = 0.0950\n",
            "counter = 68000\n",
            "loss = 0.0477\n",
            "counter = 69000\n",
            "loss = 0.1016\n",
            "counter = 70000\n",
            "loss = 0.0384\n",
            "counter = 71000\n",
            "loss = 0.0131\n",
            "counter = 72000\n",
            "loss = 0.1661\n",
            "counter = 73000\n",
            "loss = 0.2707\n",
            "counter = 74000\n",
            "loss = 0.1184\n",
            "counter = 75000\n",
            "loss = 0.2017\n",
            "counter = 76000\n",
            "loss = 0.0524\n",
            "counter = 77000\n",
            "loss = 0.0548\n",
            "counter = 78000\n",
            "loss = 0.0578\n",
            "counter = 79000\n",
            "loss = 0.1232\n",
            "counter = 80000\n",
            "loss = 0.0180\n",
            "counter = 81000\n",
            "loss = 0.1121\n",
            "counter = 82000\n",
            "loss = 0.0685\n",
            "counter = 83000\n",
            "loss = 0.0306\n",
            "counter = 84000\n",
            "loss = 0.0542\n",
            "counter = 85000\n",
            "loss = 0.0921\n",
            "counter = 86000\n",
            "loss = 0.0288\n",
            "counter = 87000\n",
            "loss = 0.0247\n",
            "counter = 88000\n",
            "loss = 0.0179\n",
            "counter = 89000\n",
            "loss = 0.0242\n",
            "counter = 90000\n",
            "loss = 0.0924\n",
            "counter = 91000\n",
            "loss = 0.0615\n",
            "counter = 92000\n",
            "loss = 0.1029\n",
            "counter = 93000\n",
            "loss = 0.0270\n",
            "counter = 94000\n",
            "loss = 0.2035\n",
            "counter = 95000\n",
            "loss = 0.0201\n",
            "counter = 96000\n",
            "loss = 0.0582\n",
            "counter = 97000\n",
            "loss = 0.1518\n",
            "counter = 98000\n",
            "loss = 0.0508\n",
            "counter = 99000\n",
            "loss = 0.0890\n",
            "counter = 100000\n",
            "loss = 0.4570\n",
            "counter = 101000\n",
            "loss = 0.0159\n",
            "counter = 102000\n",
            "loss = 0.1049\n",
            "counter = 103000\n",
            "loss = 0.0249\n",
            "counter = 104000\n",
            "loss = 0.1103\n",
            "counter = 105000\n",
            "loss = 0.0636\n",
            "counter = 106000\n",
            "loss = 0.0423\n",
            "counter = 107000\n",
            "loss = 0.3072\n",
            "counter = 108000\n",
            "loss = 0.0320\n",
            "counter = 109000\n",
            "loss = 0.0646\n",
            "counter = 110000\n",
            "loss = 0.1010\n",
            "counter = 111000\n",
            "loss = 0.0369\n",
            "counter = 112000\n",
            "loss = 0.0401\n",
            "counter = 113000\n",
            "loss = 0.0428\n",
            "counter = 114000\n",
            "loss = 0.6741\n",
            "counter = 115000\n",
            "loss = 0.0172\n",
            "counter = 116000\n",
            "loss = 0.0205\n",
            "counter = 117000\n",
            "loss = 0.4675\n",
            "counter = 118000\n",
            "loss = 0.0076\n",
            "counter = 119000\n",
            "loss = 0.0401\n",
            "counter = 120000\n",
            "loss = 0.1058\n",
            "training epoch 3 of 3\n",
            "counter = 121000\n",
            "loss = 0.0350\n",
            "counter = 122000\n",
            "loss = 0.0033\n",
            "counter = 123000\n",
            "loss = 0.0280\n",
            "counter = 124000\n",
            "loss = 0.0105\n",
            "counter = 125000\n",
            "loss = 0.0475\n",
            "counter = 126000\n",
            "loss = 0.0224\n",
            "counter = 127000\n",
            "loss = 0.0450\n",
            "counter = 128000\n",
            "loss = 0.0160\n",
            "counter = 129000\n",
            "loss = 0.0492\n",
            "counter = 130000\n",
            "loss = 0.0252\n",
            "counter = 131000\n",
            "loss = 0.0042\n",
            "counter = 132000\n",
            "loss = 0.1333\n",
            "counter = 133000\n",
            "loss = 0.2207\n",
            "counter = 134000\n",
            "loss = 0.1103\n",
            "counter = 135000\n",
            "loss = 0.2028\n",
            "counter = 136000\n",
            "loss = 0.0451\n",
            "counter = 137000\n",
            "loss = 0.0327\n",
            "counter = 138000\n",
            "loss = 0.0388\n",
            "counter = 139000\n",
            "loss = 0.0844\n",
            "counter = 140000\n",
            "loss = 0.0074\n",
            "counter = 141000\n",
            "loss = 0.1290\n",
            "counter = 142000\n",
            "loss = 0.0275\n",
            "counter = 143000\n",
            "loss = 0.0192\n",
            "counter = 144000\n",
            "loss = 0.0261\n",
            "counter = 145000\n",
            "loss = 0.0518\n",
            "counter = 146000\n",
            "loss = 0.0184\n",
            "counter = 147000\n",
            "loss = 0.0101\n",
            "counter = 148000\n",
            "loss = 0.0079\n",
            "counter = 149000\n",
            "loss = 0.0104\n",
            "counter = 150000\n",
            "loss = 0.0505\n",
            "counter = 151000\n",
            "loss = 0.0343\n",
            "counter = 152000\n",
            "loss = 0.0516\n",
            "counter = 153000\n",
            "loss = 0.0116\n",
            "counter = 154000\n",
            "loss = 0.1840\n",
            "counter = 155000\n",
            "loss = 0.0099\n",
            "counter = 156000\n",
            "loss = 0.0404\n",
            "counter = 157000\n",
            "loss = 0.1490\n",
            "counter = 158000\n",
            "loss = 0.0423\n",
            "counter = 159000\n",
            "loss = 0.0483\n",
            "counter = 160000\n",
            "loss = 0.4349\n",
            "counter = 161000\n",
            "loss = 0.0117\n",
            "counter = 162000\n",
            "loss = 0.1073\n",
            "counter = 163000\n",
            "loss = 0.0162\n",
            "counter = 164000\n",
            "loss = 0.0762\n",
            "counter = 165000\n",
            "loss = 0.0415\n",
            "counter = 166000\n",
            "loss = 0.0243\n",
            "counter = 167000\n",
            "loss = 0.2788\n",
            "counter = 168000\n",
            "loss = 0.0245\n",
            "counter = 169000\n",
            "loss = 0.0581\n",
            "counter = 170000\n",
            "loss = 0.0593\n",
            "counter = 171000\n",
            "loss = 0.0264\n",
            "counter = 172000\n",
            "loss = 0.0547\n",
            "counter = 173000\n",
            "loss = 0.0280\n",
            "counter = 174000\n",
            "loss = 0.6928\n",
            "counter = 175000\n",
            "loss = 0.0096\n",
            "counter = 176000\n",
            "loss = 0.0142\n",
            "counter = 177000\n",
            "loss = 0.4433\n",
            "counter = 178000\n",
            "loss = 0.0038\n",
            "counter = 179000\n",
            "loss = 0.0228\n",
            "counter = 180000\n",
            "loss = 0.0862\n"
          ],
          "name": "stdout"
        }
      ]
    },
    {
      "cell_type": "code",
      "metadata": {
        "colab": {
          "base_uri": "https://localhost:8080/",
          "height": 483
        },
        "id": "BmF4PLV3NcxQ",
        "outputId": "3e320e4d-c988-4341-d15e-875f3329134d"
      },
      "source": [
        "model.plot_progress()"
      ],
      "execution_count": null,
      "outputs": [
        {
          "output_type": "display_data",
          "data": {
            "image/png": "[encoded data removed]",
            "text/plain": [
              "<Figure size 1152x576 with 1 Axes>"
            ]
          },
          "metadata": {
            "tags": [],
            "needs_background": "light"
          }
        }
      ]
    },
    {
      "cell_type": "code",
      "metadata": {
        "id": "CuyfhjQ-OhWB"
      },
      "source": [
        "# test model on test data\n",
        "\n",
        "mnist_test_dataset = MnistDataset(\"mnist_test.csv\")\n",
        "\n",
        "def eval():\n",
        "\n",
        "  score = 0\n",
        "  items = 0\n",
        "  for label, image_data_tensor, target_tensor in mnist_test_dataset:\n",
        "    answer = model.forward(image_data_tensor).detach().numpy()\n",
        "    if answer.argmax() == label:\n",
        "      score += 1\n",
        "\n",
        "    items +=1\n",
        "\n",
        "  print(score, items, score/items)"
      ],
      "execution_count": null,
      "outputs": []
    },
    {
      "cell_type": "code",
      "metadata": {
        "id": "KsmyA8gvO76B"
      },
      "source": [
        "eval()"
      ],
      "execution_count": null,
      "outputs": []
    },
    {
      "cell_type": "markdown",
      "metadata": {
        "id": "jotZVYQDN6Le"
      },
      "source": [
        "## Activation function\n",
        "\n",
        "Sigmoid suffers wanishing gradient problem for large (close to 1) or low( close to -1) values. \n",
        "\n",
        "ReLU allows to forgo that. \n",
        "LeakyRelu has a non zero gradients for values < 0, so we use it instead"
      ]
    },
    {
      "cell_type": "markdown",
      "metadata": {
        "id": "pGliOLjZPkhe"
      },
      "source": [
        "## Optimisation\n",
        "\n",
        "A weakness with the simple stochastic gradient descent is that it can get stuck in local minima in  the loss function. Another weakness is that a single learning rate applies to all learnable  parameters. \n",
        "\n",
        "There are several popular alternatives, and a notable one is called Adam. It addresses the two  challenges directly. It uses the idea of a momentum to reduce the chances of getting stuck in a  local minimum, a bit like how a heavy ball can roll through a small pothole because its  momentum carries it through. It also uses a separate learning rate for each learnable  parameter, which can adapt to how each parameter changes during training. \n",
        "\n"
      ]
    },
    {
      "cell_type": "code",
      "metadata": {
        "id": "7rI-oA6VOSod"
      },
      "source": [
        "class Classifier(nn.Module):\n",
        "  \n",
        "  # constructor __init__ called upon object creation\n",
        "  def __init__(self):\n",
        "    # initialize parent pytorch class (parents constructor)\n",
        "    super().__init__()\n",
        "\n",
        "\n",
        "    #######################\n",
        "    #         NEW.        #\n",
        "    #######################\n",
        "\n",
        "    # changing activation function has significant effect \n",
        "    # due to better gradients\n",
        "    self.model = nn.Sequential(\n",
        "        nn.Linear(784,200), # contains weights\n",
        "        nn.LeakyReLU(0.02), # tackles the wanishing gradient descent problem\n",
        "\n",
        "        nn.LayerNorm(200),  # normalization\n",
        "\n",
        "        nn.Linear(200,10), # \"Linear\" because f(x) = w*x + b\n",
        "        nn.Sigmoid()\n",
        "    )\n",
        "\n",
        "    self.loss_function = nn.MSELoss()\n",
        "\n",
        "    \n",
        "    #######################\n",
        "    #         NEW.        #\n",
        "    #######################\n",
        "    # Adamax uses momentum when calculating descents\n",
        "    self.optimizer = torch.optim.Adam(self.parameters())\n",
        "    #self.optimizer = torch.optim.SGD(self.parameters(), lr=0.01)\n",
        "\n",
        "    # visualizing training progress\n",
        "    self.counter = 0\n",
        "    self.progress = []\n",
        "\n",
        "\n",
        "\n",
        "  def forward(self, inputs):\n",
        "    return self.model(inputs)\n",
        "\n",
        "  def train(self, inputs, targets):\n",
        "    # foward pass\n",
        "    outputs = self.forward(inputs)\n",
        "\n",
        "    # calculate loss\n",
        "    loss = self.loss_function(outputs, targets)\n",
        "\n",
        "    # zero gradients\n",
        "    self.optimizer.zero_grad()\n",
        "\n",
        "    # calculate gradients\n",
        "    loss.backward()\n",
        "\n",
        "    # update weights\n",
        "    self.optimizer.step() # literally take a step down the grads\n",
        "\n",
        "    # visualizing progress\n",
        "    self.counter += 1\n",
        "    if (self.counter % 10 == 0):\n",
        "      self.progress.append(loss.item())\n",
        "      pass\n",
        "  \n",
        "    if (self.counter % 10000 == 0):\n",
        "      print(f\"Iter: {self.counter:10}, Loss: {loss:10.6f}\")\n",
        "\n",
        "\n",
        "  def plot_progress(self):\n",
        "    df = pd.DataFrame(self.progress, columns=[\"loss\"])\n",
        "    df.plot(ylim=(0,1.0), figsize=(16,8), alpha=0.1, marker=\".\",\n",
        "            grid=True, yticks=(0, 0.25, 0.5))\n",
        "    pass\n"
      ],
      "execution_count": null,
      "outputs": []
    },
    {
      "cell_type": "code",
      "metadata": {
        "colab": {
          "base_uri": "https://localhost:8080/",
          "height": 1000
        },
        "id": "2ILD-CHpObJo",
        "outputId": "a5aec090-58bd-42c3-e726-56f875e28f92"
      },
      "source": [
        "model = Classifier()\n",
        "\n",
        "model = train(model, 3)\n",
        "\n",
        "model.plot_progress()\n",
        "\n",
        "eval()"
      ],
      "execution_count": null,
      "outputs": [
        {
          "output_type": "stream",
          "text": [
            "training epoch 1 of 3\n",
            "counter = 1000\n",
            "loss = 0.0011\n",
            "counter = 2000\n",
            "loss = 0.0002\n",
            "counter = 3000\n",
            "loss = 0.0061\n",
            "counter = 4000\n",
            "loss = 0.0001\n",
            "counter = 5000\n",
            "loss = 0.0008\n",
            "counter = 6000\n",
            "loss = 0.0001\n",
            "counter = 7000\n",
            "loss = 0.0016\n",
            "counter = 8000\n",
            "loss = 0.0005\n",
            "counter = 9000\n",
            "loss = 0.0004\n",
            "counter = 10000\n",
            "loss = 0.0002\n",
            "counter = 11000\n",
            "loss = 0.0000\n",
            "counter = 12000\n",
            "loss = 0.0025\n",
            "counter = 13000\n",
            "loss = 0.0003\n",
            "counter = 14000\n",
            "loss = 0.0000\n",
            "counter = 15000\n",
            "loss = 0.0897\n",
            "counter = 16000\n",
            "loss = 0.0003\n",
            "counter = 17000\n",
            "loss = 0.0001\n",
            "counter = 18000\n",
            "loss = 0.0000\n",
            "counter = 19000\n",
            "loss = 0.0000\n",
            "counter = 20000\n",
            "loss = 0.0000\n",
            "counter = 21000\n",
            "loss = 0.0933\n",
            "counter = 22000\n",
            "loss = 0.0000\n",
            "counter = 23000\n",
            "loss = 0.0000\n",
            "counter = 24000\n",
            "loss = 0.0219\n",
            "counter = 25000\n",
            "loss = 0.0000\n",
            "counter = 26000\n",
            "loss = 0.0000\n",
            "counter = 27000\n",
            "loss = 0.0030\n",
            "counter = 28000\n",
            "loss = 0.0000\n",
            "counter = 29000\n",
            "loss = 0.0000\n",
            "counter = 30000\n",
            "loss = 0.0012\n",
            "counter = 31000\n",
            "loss = 0.0000\n",
            "counter = 32000\n",
            "loss = 0.0009\n",
            "counter = 33000\n",
            "loss = 0.0000\n",
            "counter = 34000\n",
            "loss = 0.0000\n",
            "counter = 35000\n",
            "loss = 0.0000\n",
            "counter = 36000\n",
            "loss = 0.0000\n",
            "counter = 37000\n",
            "loss = 0.0000\n",
            "counter = 38000\n",
            "loss = 0.0000\n",
            "counter = 39000\n",
            "loss = 0.0000\n",
            "counter = 40000\n",
            "loss = 0.0227\n",
            "counter = 41000\n",
            "loss = 0.0000\n",
            "counter = 42000\n",
            "loss = 0.0873\n",
            "counter = 43000\n",
            "loss = 0.0000\n",
            "counter = 44000\n",
            "loss = 0.0000\n",
            "counter = 45000\n",
            "loss = 0.0000\n",
            "counter = 46000\n",
            "loss = 0.0001\n",
            "counter = 47000\n",
            "loss = 0.0000\n",
            "counter = 48000\n",
            "loss = 0.0084\n",
            "counter = 49000\n",
            "loss = 0.0000\n",
            "counter = 50000\n",
            "loss = 0.0000\n",
            "counter = 51000\n",
            "loss = 0.0000\n",
            "counter = 52000\n",
            "loss = 0.0000\n",
            "counter = 53000\n",
            "loss = 0.0000\n",
            "counter = 54000\n",
            "loss = 0.0669\n",
            "counter = 55000\n",
            "loss = 0.0000\n",
            "counter = 56000\n",
            "loss = 0.0000\n",
            "counter = 57000\n",
            "loss = 0.0284\n",
            "counter = 58000\n",
            "loss = 0.0000\n",
            "counter = 59000\n",
            "loss = 0.0000\n",
            "counter = 60000\n",
            "loss = 0.0001\n",
            "training epoch 2 of 3\n",
            "counter = 61000\n",
            "loss = 0.0000\n",
            "counter = 62000\n",
            "loss = 0.0000\n",
            "counter = 63000\n",
            "loss = 0.0000\n",
            "counter = 64000\n",
            "loss = 0.0000\n",
            "counter = 65000\n",
            "loss = 0.0000\n",
            "counter = 66000\n",
            "loss = 0.0000\n",
            "counter = 67000\n",
            "loss = 0.0002\n",
            "counter = 68000\n",
            "loss = 0.0000\n",
            "counter = 69000\n",
            "loss = 0.0000\n",
            "counter = 70000\n",
            "loss = 0.0000\n",
            "counter = 71000\n",
            "loss = 0.0000\n",
            "counter = 72000\n",
            "loss = 0.0000\n",
            "counter = 73000\n",
            "loss = 0.0000\n",
            "counter = 74000\n",
            "loss = 0.0000\n",
            "counter = 75000\n",
            "loss = 0.0462\n",
            "counter = 76000\n",
            "loss = 0.0000\n",
            "counter = 77000\n",
            "loss = 0.0000\n",
            "counter = 78000\n",
            "loss = 0.0000\n",
            "counter = 79000\n",
            "loss = 0.0000\n",
            "counter = 80000\n",
            "loss = 0.0000\n",
            "counter = 81000\n",
            "loss = 0.0040\n",
            "counter = 82000\n",
            "loss = 0.0000\n",
            "counter = 83000\n",
            "loss = 0.0000\n",
            "counter = 84000\n",
            "loss = 0.0000\n",
            "counter = 85000\n",
            "loss = 0.0000\n",
            "counter = 86000\n",
            "loss = 0.0000\n",
            "counter = 87000\n",
            "loss = 0.0000\n",
            "counter = 88000\n",
            "loss = 0.0000\n",
            "counter = 89000\n",
            "loss = 0.0000\n",
            "counter = 90000\n",
            "loss = 0.0001\n",
            "counter = 91000\n",
            "loss = 0.0000\n",
            "counter = 92000\n",
            "loss = 0.0000\n",
            "counter = 93000\n",
            "loss = 0.0000\n",
            "counter = 94000\n",
            "loss = 0.0000\n",
            "counter = 95000\n",
            "loss = 0.0000\n",
            "counter = 96000\n",
            "loss = 0.0000\n",
            "counter = 97000\n",
            "loss = 0.0000\n",
            "counter = 98000\n",
            "loss = 0.0000\n",
            "counter = 99000\n",
            "loss = 0.0000\n",
            "counter = 100000\n",
            "loss = 0.0001\n",
            "counter = 101000\n",
            "loss = 0.0000\n",
            "counter = 102000\n",
            "loss = 0.0003\n",
            "counter = 103000\n",
            "loss = 0.0000\n",
            "counter = 104000\n",
            "loss = 0.0000\n",
            "counter = 105000\n",
            "loss = 0.0000\n",
            "counter = 106000\n",
            "loss = 0.0000\n",
            "counter = 107000\n",
            "loss = 0.0000\n",
            "counter = 108000\n",
            "loss = 0.0000\n",
            "counter = 109000\n",
            "loss = 0.0000\n",
            "counter = 110000\n",
            "loss = 0.0000\n",
            "counter = 111000\n",
            "loss = 0.0000\n",
            "counter = 112000\n",
            "loss = 0.0000\n",
            "counter = 113000\n",
            "loss = 0.0000\n",
            "counter = 114000\n",
            "loss = 0.0966\n",
            "counter = 115000\n",
            "loss = 0.0000\n",
            "counter = 116000\n",
            "loss = 0.0000\n",
            "counter = 117000\n",
            "loss = 0.0014\n",
            "counter = 118000\n",
            "loss = 0.0000\n",
            "counter = 119000\n",
            "loss = 0.0000\n",
            "counter = 120000\n",
            "loss = 0.0000\n",
            "training epoch 3 of 3\n",
            "counter = 121000\n",
            "loss = 0.0000\n",
            "counter = 122000\n",
            "loss = 0.0000\n",
            "counter = 123000\n",
            "loss = 0.0000\n",
            "counter = 124000\n",
            "loss = 0.0000\n",
            "counter = 125000\n",
            "loss = 0.0000\n",
            "counter = 126000\n",
            "loss = 0.0000\n",
            "counter = 127000\n",
            "loss = 0.0000\n",
            "counter = 128000\n",
            "loss = 0.0003\n",
            "counter = 129000\n",
            "loss = 0.0000\n",
            "counter = 130000\n",
            "loss = 0.0000\n",
            "counter = 131000\n",
            "loss = 0.0000\n",
            "counter = 132000\n",
            "loss = 0.0000\n",
            "counter = 133000\n",
            "loss = 0.0000\n",
            "counter = 134000\n",
            "loss = 0.0000\n",
            "counter = 135000\n",
            "loss = 0.0108\n",
            "counter = 136000\n",
            "loss = 0.0000\n",
            "counter = 137000\n",
            "loss = 0.0000\n",
            "counter = 138000\n",
            "loss = 0.0000\n",
            "counter = 139000\n",
            "loss = 0.0000\n",
            "counter = 140000\n",
            "loss = 0.0000\n",
            "counter = 141000\n",
            "loss = 0.0013\n",
            "counter = 142000\n",
            "loss = 0.0000\n",
            "counter = 143000\n",
            "loss = 0.0000\n",
            "counter = 144000\n",
            "loss = 0.0000\n",
            "counter = 145000\n",
            "loss = 0.0000\n",
            "counter = 146000\n",
            "loss = 0.0000\n",
            "counter = 147000\n",
            "loss = 0.0006\n",
            "counter = 148000\n",
            "loss = 0.0000\n",
            "counter = 149000\n",
            "loss = 0.0000\n",
            "counter = 150000\n",
            "loss = 0.0583\n",
            "counter = 151000\n",
            "loss = 0.0000\n",
            "counter = 152000\n",
            "loss = 0.0000\n",
            "counter = 153000\n",
            "loss = 0.0000\n",
            "counter = 154000\n",
            "loss = 0.0000\n",
            "counter = 155000\n",
            "loss = 0.0000\n",
            "counter = 156000\n",
            "loss = 0.0000\n",
            "counter = 157000\n",
            "loss = 0.0000\n",
            "counter = 158000\n",
            "loss = 0.0000\n",
            "counter = 159000\n",
            "loss = 0.0000\n",
            "counter = 160000\n",
            "loss = 0.0015\n",
            "counter = 161000\n",
            "loss = 0.0000\n",
            "counter = 162000\n",
            "loss = 0.0011\n",
            "counter = 163000\n",
            "loss = 0.0000\n",
            "counter = 164000\n",
            "loss = 0.0000\n",
            "counter = 165000\n",
            "loss = 0.0000\n",
            "counter = 166000\n",
            "loss = 0.0000\n",
            "counter = 167000\n",
            "loss = 0.0000\n",
            "counter = 168000\n",
            "loss = 0.0000\n",
            "counter = 169000\n",
            "loss = 0.0000\n",
            "counter = 170000\n",
            "loss = 0.0000\n",
            "counter = 171000\n",
            "loss = 0.0000\n",
            "counter = 172000\n",
            "loss = 0.0000\n",
            "counter = 173000\n",
            "loss = 0.0000\n",
            "counter = 174000\n",
            "loss = 0.0984\n",
            "counter = 175000\n",
            "loss = 0.0000\n",
            "counter = 176000\n",
            "loss = 0.0000\n",
            "counter = 177000\n",
            "loss = 0.0001\n",
            "counter = 178000\n",
            "loss = 0.0000\n",
            "counter = 179000\n",
            "loss = 0.0000\n",
            "counter = 180000\n",
            "loss = 0.0000\n"
          ],
          "name": "stdout"
        },
        {
          "output_type": "error",
          "ename": "UnboundLocalError",
          "evalue": "ignored",
          "traceback": [
            "\u001b[0;31m---------------------------------------------------------------------------\u001b[0m",
            "\u001b[0;31mUnboundLocalError\u001b[0m                         Traceback (most recent call last)",
            "\u001b[0;32m<ipython-input-27-f5f595091294>\u001b[0m in \u001b[0;36m<module>\u001b[0;34m()\u001b[0m\n\u001b[1;32m      5\u001b[0m \u001b[0mmodel\u001b[0m\u001b[0;34m.\u001b[0m\u001b[0mplot_progress\u001b[0m\u001b[0;34m(\u001b[0m\u001b[0;34m)\u001b[0m\u001b[0;34m\u001b[0m\u001b[0;34m\u001b[0m\u001b[0m\n\u001b[1;32m      6\u001b[0m \u001b[0;34m\u001b[0m\u001b[0m\n\u001b[0;32m----> 7\u001b[0;31m \u001b[0meval\u001b[0m\u001b[0;34m(\u001b[0m\u001b[0;34m)\u001b[0m\u001b[0;34m\u001b[0m\u001b[0;34m\u001b[0m\u001b[0m\n\u001b[0m",
            "\u001b[0;32m<ipython-input-22-656f059b6a9a>\u001b[0m in \u001b[0;36meval\u001b[0;34m()\u001b[0m\n\u001b[1;32m     10\u001b[0m     \u001b[0manswer\u001b[0m \u001b[0;34m=\u001b[0m \u001b[0mmodel\u001b[0m\u001b[0;34m.\u001b[0m\u001b[0mforward\u001b[0m\u001b[0;34m(\u001b[0m\u001b[0mimage_data_tensor\u001b[0m\u001b[0;34m)\u001b[0m\u001b[0;34m.\u001b[0m\u001b[0mdetach\u001b[0m\u001b[0;34m(\u001b[0m\u001b[0;34m)\u001b[0m\u001b[0;34m.\u001b[0m\u001b[0mnumpy\u001b[0m\u001b[0;34m(\u001b[0m\u001b[0;34m)\u001b[0m\u001b[0;34m\u001b[0m\u001b[0;34m\u001b[0m\u001b[0m\n\u001b[1;32m     11\u001b[0m     \u001b[0;32mif\u001b[0m \u001b[0manswer\u001b[0m\u001b[0;34m.\u001b[0m\u001b[0margmax\u001b[0m\u001b[0;34m(\u001b[0m\u001b[0;34m)\u001b[0m \u001b[0;34m==\u001b[0m \u001b[0mlabel\u001b[0m\u001b[0;34m:\u001b[0m\u001b[0;34m\u001b[0m\u001b[0;34m\u001b[0m\u001b[0m\n\u001b[0;32m---> 12\u001b[0;31m       \u001b[0mscore\u001b[0m \u001b[0;34m+=\u001b[0m \u001b[0;36m1\u001b[0m\u001b[0;34m\u001b[0m\u001b[0;34m\u001b[0m\u001b[0m\n\u001b[0m\u001b[1;32m     13\u001b[0m \u001b[0;34m\u001b[0m\u001b[0m\n\u001b[1;32m     14\u001b[0m     \u001b[0mitems\u001b[0m \u001b[0;34m+=\u001b[0m\u001b[0;36m1\u001b[0m\u001b[0;34m\u001b[0m\u001b[0;34m\u001b[0m\u001b[0m\n",
            "\u001b[0;31mUnboundLocalError\u001b[0m: local variable 'score' referenced before assignment"
          ]
        },
        {
          "output_type": "display_data",
          "data": {
            "image/png": "[encoded data removed]",
            "text/plain": [
              "<Figure size 1152x576 with 1 Axes>"
            ]
          },
          "metadata": {
            "tags": [],
            "needs_background": "light"
          }
        }
      ]
    },
    {
      "cell_type": "code",
      "metadata": {
        "colab": {
          "base_uri": "https://localhost:8080/"
        },
        "id": "z9HcW2hoQfXK",
        "outputId": "ca210082-da3e-4fc4-81c6-65dde094be3c"
      },
      "source": [
        "eval()"
      ],
      "execution_count": null,
      "outputs": [
        {
          "output_type": "stream",
          "text": [
            "9671 10000 0.9671\n"
          ],
          "name": "stdout"
        }
      ]
    },
    {
      "cell_type": "markdown",
      "metadata": {
        "id": "8-l8PAFpSXDH"
      },
      "source": [
        "# Takeaways \n",
        "\n",
        "\n",
        "- The mean squared error loss is suited to regression tasks where the output can be in  a continuous range. The binary cross entropy loss is better suited to classification  tasks where the output should be 1 or 0, for true and false.  \n",
        "\n",
        "- The traditional sigmoid activation function suffers from vanishing gradients for large  input values. This leads to poor feedback signals for training a network. The ReLU  activation function solves this by having good gradients for positive inputs. The  LeakyReLU improves this by also having a small non-vanishing gradient for negative  values.  \n",
        "\n",
        "- The Adam optimiser uses momentum to overcome local minima, and maintains  individual learning rates for each learnable parameter. For many tasks it performs  better than the simple SGD optimiser.  \n",
        "\n",
        "- Normalisation can stabilise the training of neural networks. It is common to normalise  a network’s initial weights. Normalising signal values\n"
      ]
    },
    {
      "cell_type": "markdown",
      "metadata": {
        "id": "5aVFICN1Tk-g"
      },
      "source": [
        "# CUDA"
      ]
    },
    {
      "cell_type": "code",
      "metadata": {
        "colab": {
          "base_uri": "https://localhost:8080/"
        },
        "id": "_DsXcMyrShhk",
        "outputId": "cd1880cc-247d-4897-b1c7-d360e33ca151"
      },
      "source": [
        "# standard code to utilize CUDA\n",
        "\n",
        "if torch.cuda.is_available():\n",
        "  torch.set_default_tensor_type(torch.cuda.FloatTensor)\n",
        "  print(f\"using CUDA: {torch.cuda.get_device_name()}\")\n",
        "\n",
        "device = torch.device(\"cuda\" if torch.cuda.is_available() else \"cpu\")\n",
        "\n",
        "device"
      ],
      "execution_count": null,
      "outputs": [
        {
          "output_type": "execute_result",
          "data": {
            "text/plain": [
              "device(type='cpu')"
            ]
          },
          "metadata": {
            "tags": []
          },
          "execution_count": 32
        }
      ]
    },
    {
      "cell_type": "code",
      "metadata": {
        "id": "ObDWcjwWY1Gm"
      },
      "source": [
        ""
      ],
      "execution_count": null,
      "outputs": []
    },
    {
      "cell_type": "markdown",
      "metadata": {
        "id": "XAXVXc38Z1jN"
      },
      "source": [
        "# Part 2 - GAN\n",
        "\n"
      ]
    },
    {
      "cell_type": "markdown",
      "metadata": {
        "id": "qh8dMdrso0vl"
      },
      "source": [
        "- Let’s reward the generator when it gets an image past the discriminator.  \n",
        "- Let’s punish the generator when it gets caught as an image forger.  \n",
        "\n",
        "Trying not to think too much about the loss function, let’s take a step back and look at the whole  picture.  \n",
        "\n",
        "The discriminator’s job is to separate the real images from the generated ones. If the generator  is not very good, this job will be easy. But if we train the generator, then it should get better and  better at generating images that look more and more like real images.  \n",
        "\n",
        "That’s pretty cool. But there’s more.  \n",
        "\n",
        "As the discriminator gets better and better with training, the generator must also get better and  better if it is to get past an ever more capable discriminator. Eventually, the generator should get  really good at creating images that are indistinguishable from real images.  \n",
        "\n",
        "The discriminator and generator are set to compete against each other as adversaries, each  trying to outdo the other, and in the process, both getting better and better. This architecture is  called a Generative Adversarial Network, or GAN.  \n",
        "\n",
        "It’s a clever architecture, not just because it uses competition to drive improvement, but also  because we don’t need to define detailed rules that describe a real image to be encoded into  the loss function.\n",
        "\n"
      ]
    },
    {
      "cell_type": "markdown",
      "metadata": {
        "id": "FoWsHf99qwRo"
      },
      "source": [
        "# Simple 1010 pattern"
      ]
    },
    {
      "cell_type": "code",
      "metadata": {
        "id": "a-rLKLsJpA2u"
      },
      "source": [
        "  import torch\n",
        "  import torch.nn as nn\n",
        "\n",
        "  import pandas as pd\n",
        "  import matplotlib.pyplot as np\n",
        "\n",
        "  import random"
      ],
      "execution_count": null,
      "outputs": []
    },
    {
      "cell_type": "code",
      "metadata": {
        "id": "9xAyU4sOrsq9"
      },
      "source": [
        "class Discriminator(nn.Module):\n",
        "\n",
        "  # constructor\n",
        "  def __init__(self):\n",
        "\n",
        "    # instantiate parent pytorch class\n",
        "    super().__init__()\n",
        "\n",
        "    self.model = nn.Sequential(\n",
        "         nn.Linear(4,3),\n",
        "         nn.Sigmoid(),\n",
        "         nn.Linear(3,1),\n",
        "         nn.Sigmoid()\n",
        "    )\n",
        "\n",
        "  def forward(self, inputs):\n",
        "    return self.model(inputs)\n",
        "\n"
      ],
      "execution_count": null,
      "outputs": []
    },
    {
      "cell_type": "code",
      "metadata": {
        "id": "mGTB5yxXsox6"
      },
      "source": [
        "def train_discriminator(model, generators, criterion, optimizer, epochs):\n",
        "\n",
        "  counter = 0\n",
        "  progress = []\n",
        "\n",
        "  for epoch in range(epochs):\n",
        "\n",
        "      for source in [\"real\", \"fake\"]:\n",
        "\n",
        "        inputs = generators[source][\"generator\"]()\n",
        "        target = generators[source][\"target\"]\n",
        "\n",
        "        output = model(inputs)\n",
        "\n",
        "        loss = criterion(output, target)\n",
        "\n",
        "        optimizer.zero_grad()\n",
        "        loss.backward()\n",
        "        optimizer.step()\n",
        "\n",
        "      counter += 1\n",
        "      if counter % 10 == 0:\n",
        "        progress.append(loss.item())\n",
        "\n",
        "      if counter % 1000 == 0:\n",
        "        print(f\"iter: {counter:10}, loss: {loss.item():10.6f}\")\n",
        "\n",
        "  return model, progress"
      ],
      "execution_count": null,
      "outputs": []
    },
    {
      "cell_type": "code",
      "metadata": {
        "id": "rNK6fDyWuMaA"
      },
      "source": [
        "def plot_progress(progress):\n",
        "  df = pd.DataFrame(progress, columns=[\"loss\"])\n",
        "  df.plot(ylim=(0,1.0), figsize=(16,8), alpha=0.1, marker=\".\",\n",
        "          grid=True, yticks=(0, 0.25, 0.5))\n",
        "  \n"
      ],
      "execution_count": null,
      "outputs": []
    },
    {
      "cell_type": "markdown",
      "metadata": {
        "id": "FTiQx48Dx3w_"
      },
      "source": [
        "### Test discriminator with random data"
      ]
    },
    {
      "cell_type": "code",
      "metadata": {
        "colab": {
          "base_uri": "https://localhost:8080/"
        },
        "id": "IKsC_f-bvYQ7",
        "outputId": "5575e398-3b44-4e24-8443-d8a3e1c34ac6"
      },
      "source": [
        "# test descriminator\n",
        "\n",
        "def generate_random(size=4):\n",
        "  return torch.rand(size)\n",
        "\n",
        "test = generate_random()\n",
        "\n",
        "discriminator(test)"
      ],
      "execution_count": null,
      "outputs": [
        {
          "output_type": "execute_result",
          "data": {
            "text/plain": [
              "tensor([0.4450], grad_fn=<SigmoidBackward>)"
            ]
          },
          "metadata": {
            "tags": []
          },
          "execution_count": 64
        }
      ]
    },
    {
      "cell_type": "code",
      "metadata": {
        "colab": {
          "base_uri": "https://localhost:8080/"
        },
        "id": "4uPkLyI-vvzK",
        "outputId": "04b9fbd5-407a-4e46-a2c7-dca9df622141"
      },
      "source": [
        "# real data source\n",
        "# always generates 1010 pattern with slight randomness\n",
        "\n",
        "def generate_real():\n",
        "  real_data = torch.FloatTensor(\n",
        "      [random.uniform(0.8, 1.0),\n",
        "       random.uniform(0.0, 0.2),\n",
        "       random.uniform(0.8, 1.0),\n",
        "       random.uniform(0.0, 0.2)\n",
        "      ])\n",
        "  return real_data\n",
        "\n",
        "generate_real()"
      ],
      "execution_count": null,
      "outputs": [
        {
          "output_type": "execute_result",
          "data": {
            "text/plain": [
              "tensor([0.9102, 0.1362, 0.8429, 0.0520])"
            ]
          },
          "metadata": {
            "tags": []
          },
          "execution_count": 53
        }
      ]
    },
    {
      "cell_type": "code",
      "metadata": {
        "id": "KCSFKF50un3E"
      },
      "source": [
        "discriminator = Discriminator()\n",
        "\n",
        "criterion = nn.MSELoss()\n",
        "\n",
        "optim = torch.optim.SGD(discriminator.parameters(), lr=0.01)\n",
        "\n",
        "generators = {\"real\" : {\"generator\" : generate_real,\n",
        "                        \"target\" : torch.tensor(1, dtype=torch.float)},\n",
        "              \"fake\" : {\"generator\" : generate_random,\n",
        "                        \"target\" : torch.tensor(0, dtype=torch.float)}\n",
        "              }\n",
        "\n",
        "train_params = {\n",
        "    \"model\" : discriminator,\n",
        "    \"generators\" : generators,\n",
        "    \"criterion\" : criterion,\n",
        "    \"optimizer\" : optim,\n",
        "    \"epochs\" : 10000\n",
        "\n",
        "}"
      ],
      "execution_count": null,
      "outputs": []
    },
    {
      "cell_type": "code",
      "metadata": {
        "colab": {
          "base_uri": "https://localhost:8080/"
        },
        "id": "ZT4EAywEw61P",
        "outputId": "032f166d-3906-4a17-c4b6-ea687216631e"
      },
      "source": [
        "d, history = train_discriminator(**train_params)"
      ],
      "execution_count": null,
      "outputs": [
        {
          "output_type": "stream",
          "text": [
            "/usr/local/lib/python3.6/dist-packages/torch/nn/modules/loss.py:446: UserWarning: Using a target size (torch.Size([])) that is different to the input size (torch.Size([1])). This will likely lead to incorrect results due to broadcasting. Please ensure they have the same size.\n",
            "  return F.mse_loss(input, target, reduction=self.reduction)\n"
          ],
          "name": "stderr"
        },
        {
          "output_type": "stream",
          "text": [
            "iter:       1000, loss:   0.233689\n",
            "iter:       2000, loss:   0.251637\n",
            "iter:       3000, loss:   0.178252\n",
            "iter:       4000, loss:   0.085861\n",
            "iter:       5000, loss:   0.047325\n",
            "iter:       6000, loss:   0.050655\n",
            "iter:       7000, loss:   0.094293\n",
            "iter:       8000, loss:   0.150659\n",
            "iter:       9000, loss:   0.048743\n",
            "iter:      10000, loss:   0.096914\n"
          ],
          "name": "stdout"
        }
      ]
    },
    {
      "cell_type": "code",
      "metadata": {
        "colab": {
          "base_uri": "https://localhost:8080/",
          "height": 483
        },
        "id": "I9fZ_TDbxCj0",
        "outputId": "91641c2d-2ac5-45d8-cf2f-7fbcc2e666c4"
      },
      "source": [
        "plot_progress(history)"
      ],
      "execution_count": null,
      "outputs": [
        {
          "output_type": "display_data",
          "data": {
            "image/png": "[encoded data removed]",
            "text/plain": [
              "<Figure size 1152x576 with 1 Axes>"
            ]
          },
          "metadata": {
            "tags": [],
            "needs_background": "light"
          }
        }
      ]
    },
    {
      "cell_type": "code",
      "metadata": {
        "colab": {
          "base_uri": "https://localhost:8080/"
        },
        "id": "_PSg28ehzH5A",
        "outputId": "455c5baf-cead-44be-e03c-88bf2718edc5"
      },
      "source": [
        "d(generate_real())"
      ],
      "execution_count": null,
      "outputs": [
        {
          "output_type": "execute_result",
          "data": {
            "text/plain": [
              "tensor([0.8131], grad_fn=<SigmoidBackward>)"
            ]
          },
          "metadata": {
            "tags": []
          },
          "execution_count": 86
        }
      ]
    },
    {
      "cell_type": "code",
      "metadata": {
        "colab": {
          "base_uri": "https://localhost:8080/"
        },
        "id": "FllV1zCRzorc",
        "outputId": "0b481fb4-0ed1-4ab5-e97d-a4c3cb8a3d0d"
      },
      "source": [
        "d(generate_random())"
      ],
      "execution_count": null,
      "outputs": [
        {
          "output_type": "execute_result",
          "data": {
            "text/plain": [
              "tensor([0.0771], grad_fn=<SigmoidBackward>)"
            ]
          },
          "metadata": {
            "tags": []
          },
          "execution_count": 88
        }
      ]
    },
    {
      "cell_type": "markdown",
      "metadata": {
        "id": "zIXW3oOsz4b9"
      },
      "source": [
        "# Building the generator"
      ]
    },
    {
      "cell_type": "code",
      "metadata": {
        "colab": {
          "base_uri": "https://localhost:8080/"
        },
        "id": "LMRbevVmzqel",
        "outputId": "c6737a08-d524-45ff-e59d-3f06d34fd2e6"
      },
      "source": [
        "torch.linspace(0,1,10)"
      ],
      "execution_count": null,
      "outputs": [
        {
          "output_type": "execute_result",
          "data": {
            "text/plain": [
              "tensor([0.0000, 0.1111, 0.2222, 0.3333, 0.4444, 0.5556, 0.6667, 0.7778, 0.8889,\n",
              "        1.0000])"
            ]
          },
          "metadata": {
            "tags": []
          },
          "execution_count": 89
        }
      ]
    },
    {
      "cell_type": "code",
      "metadata": {
        "id": "cK3YsxImC7xV"
      },
      "source": [
        "class Generator(nn.Module):\n",
        "  \"\"\" Generates 1010 pattern \"\"\"\n",
        "\n",
        "  # generator doesnt need its own loss function\n",
        "  # parameters of the generator are updated based\n",
        "  # on the loss function that is applied to the \n",
        "  # outputs of the discriminator\n",
        "\n",
        "  # constructor\n",
        "  def __init__(self):\n",
        "    super().__init__()\n",
        "\n",
        "    self.model = nn.Sequential(\n",
        "        nn.Linear(1,3),\n",
        "        nn.Sigmoid(),\n",
        "        nn.Linear(3,4),\n",
        "        nn.Sigmoid()\n",
        "    )\n",
        "\n",
        "\n",
        "  def forward(self, inputs):\n",
        "    # forward pass\n",
        "    return self.model(inputs)"
      ],
      "execution_count": null,
      "outputs": []
    },
    {
      "cell_type": "code",
      "metadata": {
        "id": "Ij8ZuOPtFhaf"
      },
      "source": [
        "# redefining our training loop\n",
        "\n",
        "def train(discriminator, generator, criterion, d_optimizer, g_optimizer, epochs):\n",
        "\n",
        "  counter = 0\n",
        "  d_progress = []\n",
        "  g_progress = []\n",
        "\n",
        "  for epoch in range(epochs):\n",
        "\n",
        "    # STEP 1: train descriminator on real\n",
        "    #######################################\n",
        "    inputs = generate_real()\n",
        "    d_output = discriminator(inputs)\n",
        "\n",
        "    # loss function: target = 1\n",
        "    loss = criterion(d_output, torch.FloatTensor([1.0]))\n",
        "\n",
        "    # discriminator optimizer\n",
        "    # zero_grad, backprop, optim\n",
        "    d_optimizer.zero_grad()\n",
        "    loss.backward()\n",
        "    d_optimizer.step()\n",
        "\n",
        "    # STEP 2: train discriminator on false\n",
        "    #######################################\n",
        "    g_output = generator(torch.FloatTensor([0.5])) # we take 0.5 as noise input\n",
        "    # use detach(), so gradients in generator are not computed\n",
        "    d_output = discriminator(g_output.detach())\n",
        "\n",
        "    # loss function: target = 0\n",
        "    loss = criterion(d_output, torch.FloatTensor([0.0]))\n",
        "\n",
        "    # discriminator optimizer\n",
        "    # zero grad, backprop, optim\n",
        "    d_optimizer.zero_grad()\n",
        "    loss.backward()\n",
        "    d_optimizer.step()\n",
        "\n",
        "    if counter % 10 == 0:\n",
        "      d_progress.append(loss.item())\n",
        "\n",
        "    # STEP 3: train generator\n",
        "    #######################################\n",
        "    # generate pattern from noise\n",
        "    g_output = generator(torch.FloatTensor([0.5]))\n",
        "\n",
        "    # pass it to discriminator\n",
        "    d_output = discriminator(g_output)\n",
        "\n",
        "    # calculate error\n",
        "    loss = criterion(d_output, torch.FloatTensor([1.0]))\n",
        "\n",
        "    # generator optimizer\n",
        "    # zero grad, backprop, optim\n",
        "    g_optimizer.zero_grad()\n",
        "    loss.backward()\n",
        "    g_optimizer.step()\n",
        "\n",
        "    counter += 1\n",
        "    if counter % 10 == 0:\n",
        "      g_progress.append(loss.item())\n",
        "\n",
        "    if counter % 1000 == 0:\n",
        "      print(f\"iter: {counter:6}, loss dis: {d_progress[-1]:10.6f}, loss gen: {g_progress[-1]:10.6f}\")\n",
        "\n",
        "  return discriminator, generator, d_progress, g_progress\n"
      ],
      "execution_count": null,
      "outputs": []
    },
    {
      "cell_type": "code",
      "metadata": {
        "id": "PqiSNjhYMqUj"
      },
      "source": [
        "D = Discriminator()\n",
        "G = Generator()\n",
        "\n",
        "criterion = nn.MSELoss()\n",
        "\n",
        "d_optimizer = torch.optim.SGD(D.parameters(), lr=0.01)\n",
        "g_optimizer = torch.optim.SGD(G.parameters(), lr=0.01)\n",
        "\n",
        "epochs = 10000\n",
        "\n",
        "params = {\n",
        "    \"discriminator\" : D,\n",
        "    \"generator\" : G,\n",
        "    \"criterion\" : criterion,\n",
        "    \"d_optimizer\" : d_optimizer,\n",
        "    \"g_optimizer\" : g_optimizer,\n",
        "    \"epochs\" : epochs\n",
        "}"
      ],
      "execution_count": null,
      "outputs": []
    },
    {
      "cell_type": "code",
      "metadata": {
        "colab": {
          "base_uri": "https://localhost:8080/"
        },
        "id": "xBJBGoD1Mmg0",
        "outputId": "9a9c7f35-fdbb-4a4c-c736-2f456a95f0b2"
      },
      "source": [
        "discriminator, generator, d_progress, g_progress = train(**params)"
      ],
      "execution_count": null,
      "outputs": [
        {
          "output_type": "stream",
          "text": [
            "iter:   1000, loss dis:   0.253058, loss gen:   0.248264\n",
            "iter:   2000, loss dis:   0.244610, loss gen:   0.256712\n",
            "iter:   3000, loss dis:   0.230385, loss gen:   0.271828\n",
            "iter:   4000, loss dis:   0.209463, loss gen:   0.295673\n",
            "iter:   5000, loss dis:   0.203404, loss gen:   0.302919\n",
            "iter:   6000, loss dis:   0.222317, loss gen:   0.280893\n",
            "iter:   7000, loss dis:   0.242526, loss gen:   0.259384\n",
            "iter:   8000, loss dis:   0.253910, loss gen:   0.247934\n",
            "iter:   9000, loss dis:   0.261761, loss gen:   0.240109\n",
            "iter:  10000, loss dis:   0.264353, loss gen:   0.237818\n"
          ],
          "name": "stdout"
        }
      ]
    },
    {
      "cell_type": "code",
      "metadata": {
        "colab": {
          "base_uri": "https://localhost:8080/"
        },
        "id": "Dk2lNg2kNyyr",
        "outputId": "c356f642-9a20-4575-e6eb-635b882951fb"
      },
      "source": [
        "test = generator(torch.FloatTensor([0.5]))\n",
        "test"
      ],
      "execution_count": null,
      "outputs": [
        {
          "output_type": "execute_result",
          "data": {
            "text/plain": [
              "tensor([0.9426, 0.0453, 0.9324, 0.0581], grad_fn=<SigmoidBackward>)"
            ]
          },
          "metadata": {
            "tags": []
          },
          "execution_count": 118
        }
      ]
    },
    {
      "cell_type": "code",
      "metadata": {
        "colab": {
          "base_uri": "https://localhost:8080/"
        },
        "id": "e3GM-q2LOEtI",
        "outputId": "fa00c819-ff79-4a4b-9a0d-fe66fc23b5f6"
      },
      "source": [
        "discriminator(generate_random())"
      ],
      "execution_count": null,
      "outputs": [
        {
          "output_type": "execute_result",
          "data": {
            "text/plain": [
              "tensor([0.1874], grad_fn=<SigmoidBackward>)"
            ]
          },
          "metadata": {
            "tags": []
          },
          "execution_count": 121
        }
      ]
    },
    {
      "cell_type": "markdown",
      "metadata": {
        "id": "lFZhFn3RtoqI"
      },
      "source": [
        "- A good pattern for developing and training a GAN includes the following steps. (1)  preview data from the real dataset, (2) test the discriminator can at least learn to  separate real data from random noise, (3) test the untrained generator can create  data of the right shape, (4) visualise the loss values to understand how well training  progressed.  \n",
        "\n",
        "- A successfully trained GAN has a discriminator that can’t tell real from generated data.  Its output is 0.5, half way between 0.0 and 1.0. The ideal mean squared error loss is  0.25.  \n",
        "\n",
        "- It can be useful to separately visualise the discriminator and generator loss. The  generator loss is the loss at the discriminator caused by a generated data example. \n",
        "\n"
      ]
    },
    {
      "cell_type": "markdown",
      "metadata": {
        "id": "P3jsB7EXtve8"
      },
      "source": [
        "# Handwritten Digits"
      ]
    },
    {
      "cell_type": "code",
      "metadata": {
        "colab": {
          "base_uri": "https://localhost:8080/"
        },
        "id": "RhrE6NWXu8PE",
        "outputId": "44e612e5-3482-43f0-c814-421f644e2cc3"
      },
      "source": [
        "# download mnist dataset\n",
        "\n",
        "!wget https://pjreddie.com/media/files/mnist_train.csv\n",
        "!wget https://pjreddie.com/media/files/mnist_test.csv"
      ],
      "execution_count": 1,
      "outputs": [
        {
          "output_type": "stream",
          "text": [
            "--2021-01-29 10:09:13--  https://pjreddie.com/media/files/mnist_train.csv\n",
            "Resolving pjreddie.com (pjreddie.com)... 128.208.4.108\n",
            "Connecting to pjreddie.com (pjreddie.com)|128.208.4.108|:443... connected.\n",
            "HTTP request sent, awaiting response... 200 OK\n",
            "Length: 109575994 (104M) [application/octet-stream]\n",
            "Saving to: ‘mnist_train.csv’\n",
            "\n",
            "mnist_train.csv     100%[===================>] 104.50M   193KB/s    in 8m 59s  \n",
            "\n",
            "2021-01-29 10:18:13 (199 KB/s) - ‘mnist_train.csv’ saved [109575994/109575994]\n",
            "\n",
            "--2021-01-29 10:18:13--  https://pjreddie.com/media/files/mnist_test.csv\n",
            "Resolving pjreddie.com (pjreddie.com)... 128.208.4.108\n",
            "Connecting to pjreddie.com (pjreddie.com)|128.208.4.108|:443... connected.\n",
            "HTTP request sent, awaiting response... 200 OK\n",
            "Length: 18289443 (17M) [application/octet-stream]\n",
            "Saving to: ‘mnist_test.csv’\n",
            "\n",
            "mnist_test.csv      100%[===================>]  17.44M   209KB/s    in 90s     \n",
            "\n",
            "2021-01-29 10:19:43 (199 KB/s) - ‘mnist_test.csv’ saved [18289443/18289443]\n",
            "\n"
          ],
          "name": "stdout"
        }
      ]
    },
    {
      "cell_type": "code",
      "metadata": {
        "id": "JCGXPPl_PISQ"
      },
      "source": [
        "import torch\n",
        "import torch.nn as nn\n",
        "from torch.utils.data import Dataset \n",
        "\n",
        "import pandas as pd\n",
        "import numpy as np\n",
        "import random\n",
        "\n",
        "import matplotlib.pyplot as plt\n"
      ],
      "execution_count": 2,
      "outputs": []
    },
    {
      "cell_type": "code",
      "metadata": {
        "colab": {
          "base_uri": "https://localhost:8080/"
        },
        "id": "d-Cq7KwwslVg",
        "outputId": "810878a3-1aed-4068-e8a4-9d607238b03f"
      },
      "source": [
        "# standard code to utilize CUDA\n",
        "\n",
        "if torch.cuda.is_available():\n",
        "  torch.set_default_tensor_type(torch.cuda.FloatTensor)\n",
        "  print(f\"using CUDA: {torch.cuda.get_device_name()}\")\n",
        "\n",
        "device = torch.device(\"cuda\" if torch.cuda.is_available() else \"cpu\")\n",
        "\n",
        "device"
      ],
      "execution_count": 43,
      "outputs": [
        {
          "output_type": "stream",
          "text": [
            "using CUDA: Tesla T4\n"
          ],
          "name": "stdout"
        },
        {
          "output_type": "execute_result",
          "data": {
            "text/plain": [
              "device(type='cuda')"
            ]
          },
          "metadata": {
            "tags": []
          },
          "execution_count": 43
        }
      ]
    },
    {
      "cell_type": "code",
      "metadata": {
        "id": "9i1trLwcua1m"
      },
      "source": [
        "# Mnist dataset\n",
        "\n",
        "class MnistDataset(Dataset):\n",
        "\n",
        "  def __init__(self, csv_file):\n",
        "    self.dataset = pd.read_csv(csv_file, header=None)\n",
        "\n",
        "  def __len__(self):\n",
        "    return self.len(dataset)\n",
        "\n",
        "  def __getitem__(self, idx):\n",
        "    # target\n",
        "    label = self.dataset.iloc[idx,0]\n",
        "    target = torch.zeros((10))\n",
        "    target[label] = 1.0\n",
        "\n",
        "\n",
        "    image = self.dataset.iloc[idx,1:].values / 255.0\n",
        "    #image = image.reshape((28,28))\n",
        "    image = torch.tensor(image, dtype=torch.float)\n",
        "\n",
        "    return label, image, target\n",
        "\n",
        "  def plot_image(self, idx):\n",
        "    arr = self.dataset.iloc[idx,1:].values.reshape(28,28)\n",
        "    plt.title(f\"label = {self.dataset.iloc[idx,0]}\")\n",
        "    plt.imshow(arr, interpolation=\"none\", cmap=\"Blues\")"
      ],
      "execution_count": 3,
      "outputs": []
    },
    {
      "cell_type": "code",
      "metadata": {
        "id": "j1jgKqn-wcGY"
      },
      "source": [
        "train_ds = MnistDataset(\"mnist_train.csv\")"
      ],
      "execution_count": 4,
      "outputs": []
    },
    {
      "cell_type": "code",
      "metadata": {
        "id": "Iw53ylkevhiK"
      },
      "source": [
        "# Discriminator\n",
        "\n",
        "class Discriminator(nn.Module):\n",
        "\n",
        "  # constructor\n",
        "  def __init__(self):\n",
        "    super().__init__()\n",
        "\n",
        "    self.model = nn.Sequential(\n",
        "        nn.Linear(784,200),\n",
        "        nn.LeakyReLU(0.02),\n",
        "        nn.LayerNorm(200),\n",
        "        nn.Linear(200, 1),\n",
        "        nn.Sigmoid()\n",
        "    )\n",
        "\n",
        "  # forward pass\n",
        "  def forward(self, inputs):\n",
        "    return self.model(inputs)"
      ],
      "execution_count": 71,
      "outputs": []
    },
    {
      "cell_type": "code",
      "metadata": {
        "colab": {
          "base_uri": "https://localhost:8080/"
        },
        "id": "Ihx73P7cxhTp",
        "outputId": "b098420b-ee01-4555-c4ef-7ef9f850323a"
      },
      "source": [
        "D = Discriminator()\n",
        "\n",
        "\n",
        "sample = next(iter(train_ds))\n",
        "D(sample[1])"
      ],
      "execution_count": 6,
      "outputs": [
        {
          "output_type": "execute_result",
          "data": {
            "text/plain": [
              "tensor([0.5895], grad_fn=<SigmoidBackward>)"
            ]
          },
          "metadata": {
            "tags": []
          },
          "execution_count": 6
        }
      ]
    },
    {
      "cell_type": "code",
      "metadata": {
        "id": "RvNdTcv_xySm"
      },
      "source": [
        "def train_discriminator(model, criterion, optimizer, epochs):\n",
        "  \n",
        "  counter = 0\n",
        "  progress = []\n",
        "\n",
        "  for epoch in range(epochs):\n",
        "    for label, image, targets in train_ds:\n",
        "\n",
        "      # show real\n",
        "      image = image.to(device)\n",
        "      outputs = model(image).to(device)\n",
        "\n",
        "      real = torch.tensor([1.0], dtype = torch.float, device=device)\n",
        "      loss = criterion(outputs, real)\n",
        "\n",
        "      # zero grad, backward prop, calculate gradients\n",
        "      optimizer.zero_grad()\n",
        "      loss.backward()\n",
        "      optimizer.step()\n",
        "\n",
        "      # show fake\n",
        "      inputs = torch.rand(image.size(), device = device)\n",
        "      outputs = model(inputs).to(device)\n",
        "\n",
        "      fake = torch.tensor([0.0], dtype = torch.float, device=device)\n",
        "      loss = criterion(outputs, fake)\n",
        "\n",
        "      optimizer.zero_grad()\n",
        "      loss.backward()\n",
        "      optimizer.step()\n",
        "\n",
        "      # statistics\n",
        "      counter+=1\n",
        "      if counter % 10 ==0:\n",
        "        progress.append(loss.item())\n",
        "\n",
        "      if counter % 1000 ==0:\n",
        "        print(f\"iter: {counter:8}, loss: {progress[-1]:8.6f}\")\n",
        "\n",
        "\n",
        "    return model, progress"
      ],
      "execution_count": 38,
      "outputs": []
    },
    {
      "cell_type": "code",
      "metadata": {
        "id": "yyfOJOtm1kpZ"
      },
      "source": [
        "def plot_progress(progress):\n",
        "  df = pd.DataFrame(progress, columns=[\"loss\"])\n",
        "  df.plot(ylim=(0,1.0), figsize=(16,8), alpha=0.1, marker=\".\",\n",
        "          grid=True, yticks=(0, 0.25, 0.5))"
      ],
      "execution_count": 8,
      "outputs": []
    },
    {
      "cell_type": "code",
      "metadata": {
        "id": "Pn1cyczs0sPb"
      },
      "source": [
        "D = Discriminator()\n",
        "D = D.to(device)\n",
        "\n",
        "criterion = nn.MSELoss()\n",
        "\n",
        "optim = torch.optim.SGD(D.parameters(), lr=0.001)\n",
        "\n",
        "epochs = 1\n",
        "\n",
        "device = \"cuda:0\" if torch.cuda.is_available() else \"cpu\"\n",
        "\n",
        "params = {\"model\" : D,\n",
        "          \"criterion\" : criterion,\n",
        "          \"optimizer\" : optim,\n",
        "          \"epochs\" : epochs}"
      ],
      "execution_count": 33,
      "outputs": []
    },
    {
      "cell_type": "code",
      "metadata": {
        "colab": {
          "base_uri": "https://localhost:8080/"
        },
        "id": "q0kl6yfm1Pm8",
        "outputId": "2f749c44-5ce1-4c02-a7b8-0e944a3d2223"
      },
      "source": [
        "%%time\n",
        "\n",
        "model, progress = train_discriminator(**params)"
      ],
      "execution_count": 39,
      "outputs": [
        {
          "output_type": "stream",
          "text": [
            "iter:     1000, loss: 0.000351\n",
            "iter:     2000, loss: 0.000095\n",
            "iter:     3000, loss: 0.000020\n",
            "iter:     4000, loss: 0.000064\n",
            "iter:     5000, loss: 0.000038\n",
            "iter:     6000, loss: 0.000074\n",
            "iter:     7000, loss: 0.000083\n",
            "iter:     8000, loss: 0.000076\n",
            "iter:     9000, loss: 0.000043\n",
            "iter:    10000, loss: 0.000362\n",
            "iter:    11000, loss: 0.000024\n",
            "iter:    12000, loss: 0.000039\n",
            "iter:    13000, loss: 0.000050\n",
            "iter:    14000, loss: 0.000028\n",
            "iter:    15000, loss: 0.000048\n",
            "iter:    16000, loss: 0.000019\n",
            "iter:    17000, loss: 0.000034\n",
            "iter:    18000, loss: 0.000035\n",
            "iter:    19000, loss: 0.000018\n",
            "iter:    20000, loss: 0.000029\n",
            "iter:    21000, loss: 0.000057\n",
            "iter:    22000, loss: 0.000095\n",
            "iter:    23000, loss: 0.000081\n",
            "iter:    24000, loss: 0.000032\n",
            "iter:    25000, loss: 0.000132\n",
            "iter:    26000, loss: 0.000029\n",
            "iter:    27000, loss: 0.000055\n",
            "iter:    28000, loss: 0.000014\n",
            "iter:    29000, loss: 0.000028\n",
            "iter:    30000, loss: 0.000015\n",
            "iter:    31000, loss: 0.000027\n",
            "iter:    32000, loss: 0.000008\n",
            "iter:    33000, loss: 0.000025\n",
            "iter:    34000, loss: 0.000021\n",
            "iter:    35000, loss: 0.000032\n",
            "iter:    36000, loss: 0.000009\n",
            "iter:    37000, loss: 0.000010\n",
            "iter:    38000, loss: 0.000010\n",
            "iter:    39000, loss: 0.000019\n",
            "iter:    40000, loss: 0.000028\n",
            "iter:    41000, loss: 0.000015\n",
            "iter:    42000, loss: 0.000009\n",
            "iter:    43000, loss: 0.000020\n",
            "iter:    44000, loss: 0.000020\n",
            "iter:    45000, loss: 0.000013\n",
            "iter:    46000, loss: 0.000013\n",
            "iter:    47000, loss: 0.000004\n",
            "iter:    48000, loss: 0.000006\n",
            "iter:    49000, loss: 0.000009\n",
            "iter:    50000, loss: 0.000020\n",
            "iter:    51000, loss: 0.000002\n",
            "iter:    52000, loss: 0.000014\n",
            "iter:    53000, loss: 0.000015\n",
            "iter:    54000, loss: 0.000028\n",
            "iter:    55000, loss: 0.000024\n",
            "iter:    56000, loss: 0.000013\n",
            "iter:    57000, loss: 0.000012\n",
            "iter:    58000, loss: 0.000005\n",
            "iter:    59000, loss: 0.000012\n",
            "iter:    60000, loss: 0.000007\n",
            "CPU times: user 2min 28s, sys: 5.9 s, total: 2min 34s\n",
            "Wall time: 2min 36s\n"
          ],
          "name": "stdout"
        }
      ]
    },
    {
      "cell_type": "code",
      "metadata": {
        "colab": {
          "base_uri": "https://localhost:8080/",
          "height": 483
        },
        "id": "47HhXojq1W8s",
        "outputId": "72f56ead-619f-435f-a97d-801aa561aa5d"
      },
      "source": [
        "plot_progress(progress)"
      ],
      "execution_count": 40,
      "outputs": [
        {
          "output_type": "display_data",
          "data": {
            "image/png": "[encoded data removed]",
            "text/plain": [
              "<Figure size 1152x576 with 1 Axes>"
            ]
          },
          "metadata": {
            "tags": [],
            "needs_background": "light"
          }
        }
      ]
    },
    {
      "cell_type": "code",
      "metadata": {
        "colab": {
          "base_uri": "https://localhost:8080/"
        },
        "id": "1W7Z_a5n2NKQ",
        "outputId": "0af8d0fa-d0e9-4c82-d108-7eefba8feb15"
      },
      "source": [
        "model(torch.rand(784, device=device))"
      ],
      "execution_count": 41,
      "outputs": [
        {
          "output_type": "execute_result",
          "data": {
            "text/plain": [
              "tensor([0.0017], device='cuda:0', grad_fn=<SigmoidBackward>)"
            ]
          },
          "metadata": {
            "tags": []
          },
          "execution_count": 41
        }
      ]
    },
    {
      "cell_type": "code",
      "metadata": {
        "id": "L1TmgmRc2mbr"
      },
      "source": [
        "class Generator(nn.Module):\n",
        "\n",
        "  def __init__(self):\n",
        "    # constructor\n",
        "\n",
        "    # instantiate parent class\n",
        "    super().__init__()\n",
        "\n",
        "    self.model = nn.Sequential(\n",
        "        nn.Linear(1,200),\n",
        "        nn.LeakyReLU(0.02),\n",
        "        nn.LayerNorm(200),\n",
        "        nn.Linear(200,784),\n",
        "        nn.Sigmoid()\n",
        "    )\n",
        "\n",
        "\n",
        "  def forward(self, input):\n",
        "    # forward pass  \n",
        "    return self.model(input)"
      ],
      "execution_count": 42,
      "outputs": []
    },
    {
      "cell_type": "code",
      "metadata": {
        "colab": {
          "base_uri": "https://localhost:8080/",
          "height": 282
        },
        "id": "FFpymq33pD3K",
        "outputId": "945cc65b-805f-4f3e-fa6e-26591be9fae7"
      },
      "source": [
        "G = Generator()\n",
        "\n",
        "sample = torch.rand([1])\n",
        "output = G(sample)\n",
        "img = output.detach().cpu().numpy().reshape(28,28)\n",
        "plt.imshow(img, interpolation=\"none\", cmap=\"Blues\")"
      ],
      "execution_count": 45,
      "outputs": [
        {
          "output_type": "execute_result",
          "data": {
            "text/plain": [
              "<matplotlib.image.AxesImage at 0x7f82caec19b0>"
            ]
          },
          "metadata": {
            "tags": []
          },
          "execution_count": 45
        },
        {
          "output_type": "display_data",
          "data": {
            "image/png": "[encoded data removed]",
            "text/plain": [
              "<Figure size 432x288 with 1 Axes>"
            ]
          },
          "metadata": {
            "tags": [],
            "needs_background": "light"
          }
        }
      ]
    },
    {
      "cell_type": "code",
      "metadata": {
        "id": "8SF67jHvpbU1"
      },
      "source": [
        "def train_generator(D, G, criterion, d_optim, g_optim, epochs):\n",
        "\n",
        "  counter = 0\n",
        "  d_progress = []\n",
        "  g_progress = []\n",
        "\n",
        "  for epoch in range(epochs):\n",
        "\n",
        "    for label, inputs, target in train_ds:\n",
        "\n",
        "      counter += 1\n",
        "\n",
        "      # STEP 1\n",
        "      # train discriminator on real\n",
        "      inputs = inputs.to(device)\n",
        "      outputs = D(inputs)\n",
        "      \n",
        "      real = torch.tensor([1.0], dtype=torch.float, device = device) \n",
        "      loss = criterion(outputs, real)\n",
        "\n",
        "      # update discriminator weights\n",
        "      d_optim.zero_grad()\n",
        "      loss.backward()\n",
        "      d_optim.step()\n",
        "\n",
        "      # STEP 2\n",
        "      # train discriminator on generated image\n",
        "      noise = torch.rand(1, device=device)\n",
        "      inputs = G(noise).detach()\n",
        "\n",
        "      outputs = D(inputs)\n",
        "\n",
        "      fake = torch.tensor([0.0], dtype=torch.float, device=device)\n",
        "      loss = criterion(outputs, fake)\n",
        "\n",
        "      # update discriminator weights\n",
        "      d_optim.zero_grad()\n",
        "      loss.backward()\n",
        "      d_optim.step()\n",
        "\n",
        "      if counter % 10 == 0:\n",
        "        d_progress.append(loss.item())\n",
        "\n",
        "      # STEP 3\n",
        "      # train generator\n",
        "      noise = torch.rand(1, device=device)\n",
        "      inputs = G(noise)\n",
        "      outputs = D(inputs)\n",
        "\n",
        "      loss = criterion(outputs, real)\n",
        "\n",
        "      # update generator weights\n",
        "      g_optim.zero_grad()\n",
        "      loss.backward()\n",
        "      g_optim.step()\n",
        "\n",
        "      if counter % 10 == 0:\n",
        "        g_progress.append(loss.item())\n",
        "\n",
        "      if counter % 10000 == 0:\n",
        "        print(f\"iter: {counter:10},\" +\n",
        "              f\"D loss: {d_progress[-1]:8.6f},\" +\n",
        "              f\"G loss: {g_progress[-1]:8.6f}\")\n",
        "\n",
        "      # early stopping    \n",
        "      if counter > 10000 and d_progress[-1] > 0.8:\n",
        "        break\n",
        "        \n",
        "  return D, G, d_progress, g_progress"
      ],
      "execution_count": 72,
      "outputs": []
    },
    {
      "cell_type": "code",
      "metadata": {
        "id": "04FS1hyyyWIM"
      },
      "source": [
        "G = Generator()\n",
        "G = G.to(device)\n",
        "\n",
        "D = Discriminator()\n",
        "D = D.to(device)\n",
        "\n",
        "criterion = nn.MSELoss()\n",
        "\n",
        "d_optim = torch.optim.Adam(D.parameters())\n",
        "g_optim = torch.optim.Adam(G.parameters())\n",
        "\n",
        "epochs = 3\n",
        "\n",
        "params = {\n",
        "    \"D\" : D,\n",
        "    \"G\" : G,\n",
        "    \"criterion\" : criterion,\n",
        "    \"d_optim\" : d_optim,\n",
        "    \"g_optim\" : g_optim,\n",
        "    \"epochs\" : epochs\n",
        "}"
      ],
      "execution_count": 51,
      "outputs": []
    },
    {
      "cell_type": "code",
      "metadata": {
        "colab": {
          "base_uri": "https://localhost:8080/"
        },
        "id": "STHULcAAyYPJ",
        "outputId": "252faacb-eed4-452d-adf5-e161c3aedb75"
      },
      "source": [
        "D, G, d_progress, g_progress = train_generator(**params)"
      ],
      "execution_count": 60,
      "outputs": [
        {
          "output_type": "stream",
          "text": [
            "iter:       1000,D loss: 0.000012,G loss: 0.994573\n",
            "iter:       2000,D loss: 0.000005,G loss: 0.995976\n",
            "iter:       3000,D loss: 0.002081,G loss: 0.927211\n",
            "iter:       4000,D loss: 0.000041,G loss: 0.983799\n",
            "iter:       5000,D loss: 0.000004,G loss: 0.999623\n",
            "iter:       6000,D loss: 0.000131,G loss: 0.984455\n",
            "iter:       7000,D loss: 0.000004,G loss: 0.996371\n",
            "iter:       8000,D loss: 0.000026,G loss: 0.989995\n",
            "iter:       9000,D loss: 0.000001,G loss: 0.997692\n",
            "iter:      10000,D loss: 0.000009,G loss: 0.994409\n",
            "iter:      11000,D loss: 0.000031,G loss: 0.989708\n",
            "iter:      12000,D loss: 0.000132,G loss: 0.978680\n",
            "iter:      13000,D loss: 0.000000,G loss: 0.999932\n",
            "iter:      14000,D loss: 0.000000,G loss: 0.999922\n",
            "iter:      15000,D loss: 0.000000,G loss: 0.999940\n",
            "iter:      16000,D loss: 0.000001,G loss: 0.998589\n",
            "iter:      17000,D loss: 0.000000,G loss: 0.999499\n",
            "iter:      18000,D loss: 0.000000,G loss: 0.999801\n",
            "iter:      19000,D loss: 0.000000,G loss: 1.000000\n",
            "iter:      20000,D loss: 0.000000,G loss: 1.000000\n",
            "iter:      21000,D loss: 0.000000,G loss: 1.000000\n",
            "iter:      22000,D loss: 0.000000,G loss: 1.000000\n",
            "iter:      23000,D loss: 0.000000,G loss: 1.000000\n",
            "iter:      24000,D loss: 0.000000,G loss: 1.000000\n",
            "iter:      25000,D loss: 0.000000,G loss: 1.000000\n",
            "iter:      26000,D loss: 0.000000,G loss: 1.000000\n",
            "iter:      27000,D loss: 0.000000,G loss: 1.000000\n",
            "iter:      28000,D loss: 0.000000,G loss: 1.000000\n",
            "iter:      29000,D loss: 0.000000,G loss: 1.000000\n",
            "iter:      30000,D loss: 0.000000,G loss: 1.000000\n",
            "iter:      31000,D loss: 0.000000,G loss: 1.000000\n",
            "iter:      32000,D loss: 0.000000,G loss: 1.000000\n",
            "iter:      33000,D loss: 0.000000,G loss: 1.000000\n",
            "iter:      34000,D loss: 0.000000,G loss: 1.000000\n",
            "iter:      35000,D loss: 0.000000,G loss: 1.000000\n",
            "iter:      36000,D loss: 0.000000,G loss: 1.000000\n",
            "iter:      37000,D loss: 0.000000,G loss: 1.000000\n",
            "iter:      38000,D loss: 0.000000,G loss: 1.000000\n",
            "iter:      39000,D loss: 0.000000,G loss: 1.000000\n",
            "iter:      40000,D loss: 0.000000,G loss: 1.000000\n",
            "iter:      41000,D loss: 1.000000,G loss: 0.000000\n",
            "iter:      42000,D loss: 1.000000,G loss: 0.000000\n",
            "iter:      43000,D loss: 1.000000,G loss: 0.000000\n",
            "iter:      44000,D loss: 1.000000,G loss: 0.000000\n",
            "iter:      45000,D loss: 1.000000,G loss: 0.000000\n",
            "iter:      46000,D loss: 1.000000,G loss: 0.000000\n",
            "iter:      47000,D loss: 1.000000,G loss: 0.000000\n",
            "iter:      48000,D loss: 1.000000,G loss: 0.000000\n",
            "iter:      49000,D loss: 1.000000,G loss: 0.000000\n",
            "iter:      50000,D loss: 1.000000,G loss: 0.000000\n",
            "iter:      51000,D loss: 1.000000,G loss: 0.000000\n",
            "iter:      52000,D loss: 1.000000,G loss: 0.000000\n",
            "iter:      53000,D loss: 1.000000,G loss: 0.000000\n",
            "iter:      54000,D loss: 1.000000,G loss: 0.000000\n",
            "iter:      55000,D loss: 1.000000,G loss: 0.000000\n",
            "iter:      56000,D loss: 1.000000,G loss: 0.000000\n",
            "iter:      57000,D loss: 1.000000,G loss: 0.000000\n",
            "iter:      58000,D loss: 1.000000,G loss: 0.000000\n",
            "iter:      59000,D loss: 1.000000,G loss: 0.000000\n",
            "iter:      60000,D loss: 1.000000,G loss: 0.000000\n",
            "iter:      61000,D loss: 1.000000,G loss: 0.000000\n",
            "iter:      62000,D loss: 1.000000,G loss: 0.000000\n",
            "iter:      63000,D loss: 1.000000,G loss: 0.000000\n",
            "iter:      64000,D loss: 1.000000,G loss: 0.000000\n",
            "iter:      65000,D loss: 1.000000,G loss: 0.000000\n",
            "iter:      66000,D loss: 1.000000,G loss: 0.000000\n",
            "iter:      67000,D loss: 1.000000,G loss: 0.000000\n",
            "iter:      68000,D loss: 1.000000,G loss: 0.000000\n",
            "iter:      69000,D loss: 1.000000,G loss: 0.000000\n",
            "iter:      70000,D loss: 1.000000,G loss: 0.000000\n",
            "iter:      71000,D loss: 1.000000,G loss: 0.000000\n",
            "iter:      72000,D loss: 1.000000,G loss: 0.000000\n",
            "iter:      73000,D loss: 1.000000,G loss: 0.000000\n",
            "iter:      74000,D loss: 1.000000,G loss: 0.000000\n",
            "iter:      75000,D loss: 1.000000,G loss: 0.000000\n",
            "iter:      76000,D loss: 1.000000,G loss: 0.000000\n",
            "iter:      77000,D loss: 1.000000,G loss: 0.000000\n",
            "iter:      78000,D loss: 1.000000,G loss: 0.000000\n",
            "iter:      79000,D loss: 1.000000,G loss: 0.000000\n",
            "iter:      80000,D loss: 1.000000,G loss: 0.000000\n",
            "iter:      81000,D loss: 1.000000,G loss: 0.000000\n",
            "iter:      82000,D loss: 1.000000,G loss: 0.000000\n",
            "iter:      83000,D loss: 1.000000,G loss: 0.000000\n",
            "iter:      84000,D loss: 1.000000,G loss: 0.000000\n",
            "iter:      85000,D loss: 1.000000,G loss: 0.000000\n",
            "iter:      86000,D loss: 1.000000,G loss: 0.000000\n",
            "iter:      87000,D loss: 1.000000,G loss: 0.000000\n",
            "iter:      88000,D loss: 1.000000,G loss: 0.000000\n",
            "iter:      89000,D loss: 1.000000,G loss: 0.000000\n",
            "iter:      90000,D loss: 1.000000,G loss: 0.000000\n",
            "iter:      91000,D loss: 1.000000,G loss: 0.000000\n",
            "iter:      92000,D loss: 1.000000,G loss: 0.000000\n",
            "iter:      93000,D loss: 1.000000,G loss: 0.000000\n",
            "iter:      94000,D loss: 1.000000,G loss: 0.000000\n",
            "iter:      95000,D loss: 1.000000,G loss: 0.000000\n",
            "iter:      96000,D loss: 1.000000,G loss: 0.000000\n",
            "iter:      97000,D loss: 1.000000,G loss: 0.000000\n",
            "iter:      98000,D loss: 1.000000,G loss: 0.000000\n",
            "iter:      99000,D loss: 1.000000,G loss: 0.000000\n",
            "iter:     100000,D loss: 1.000000,G loss: 0.000000\n",
            "iter:     101000,D loss: 1.000000,G loss: 0.000000\n",
            "iter:     102000,D loss: 1.000000,G loss: 0.000000\n",
            "iter:     103000,D loss: 1.000000,G loss: 0.000000\n",
            "iter:     104000,D loss: 1.000000,G loss: 0.000000\n",
            "iter:     105000,D loss: 1.000000,G loss: 0.000000\n",
            "iter:     106000,D loss: 1.000000,G loss: 0.000000\n",
            "iter:     107000,D loss: 1.000000,G loss: 0.000000\n",
            "iter:     108000,D loss: 1.000000,G loss: 0.000000\n",
            "iter:     109000,D loss: 1.000000,G loss: 0.000000\n",
            "iter:     110000,D loss: 1.000000,G loss: 0.000000\n",
            "iter:     111000,D loss: 1.000000,G loss: 0.000000\n",
            "iter:     112000,D loss: 1.000000,G loss: 0.000000\n",
            "iter:     113000,D loss: 1.000000,G loss: 0.000000\n",
            "iter:     114000,D loss: 1.000000,G loss: 0.000000\n",
            "iter:     115000,D loss: 1.000000,G loss: 0.000000\n",
            "iter:     116000,D loss: 1.000000,G loss: 0.000000\n",
            "iter:     117000,D loss: 1.000000,G loss: 0.000000\n",
            "iter:     118000,D loss: 1.000000,G loss: 0.000000\n",
            "iter:     119000,D loss: 1.000000,G loss: 0.000000\n",
            "iter:     120000,D loss: 1.000000,G loss: 0.000000\n",
            "iter:     121000,D loss: 1.000000,G loss: 0.000000\n",
            "iter:     122000,D loss: 1.000000,G loss: 0.000000\n",
            "iter:     123000,D loss: 1.000000,G loss: 0.000000\n",
            "iter:     124000,D loss: 1.000000,G loss: 0.000000\n",
            "iter:     125000,D loss: 1.000000,G loss: 0.000000\n",
            "iter:     126000,D loss: 1.000000,G loss: 0.000000\n",
            "iter:     127000,D loss: 1.000000,G loss: 0.000000\n",
            "iter:     128000,D loss: 1.000000,G loss: 0.000000\n",
            "iter:     129000,D loss: 1.000000,G loss: 0.000000\n",
            "iter:     130000,D loss: 1.000000,G loss: 0.000000\n",
            "iter:     131000,D loss: 1.000000,G loss: 0.000000\n",
            "iter:     132000,D loss: 1.000000,G loss: 0.000000\n",
            "iter:     133000,D loss: 1.000000,G loss: 0.000000\n",
            "iter:     134000,D loss: 1.000000,G loss: 0.000000\n",
            "iter:     135000,D loss: 1.000000,G loss: 0.000000\n",
            "iter:     136000,D loss: 1.000000,G loss: 0.000000\n",
            "iter:     137000,D loss: 1.000000,G loss: 0.000000\n",
            "iter:     138000,D loss: 1.000000,G loss: 0.000000\n",
            "iter:     139000,D loss: 1.000000,G loss: 0.000000\n",
            "iter:     140000,D loss: 1.000000,G loss: 0.000000\n",
            "iter:     141000,D loss: 1.000000,G loss: 0.000000\n",
            "iter:     142000,D loss: 1.000000,G loss: 0.000000\n",
            "iter:     143000,D loss: 1.000000,G loss: 0.000000\n",
            "iter:     144000,D loss: 1.000000,G loss: 0.000000\n",
            "iter:     145000,D loss: 1.000000,G loss: 0.000000\n",
            "iter:     146000,D loss: 1.000000,G loss: 0.000000\n",
            "iter:     147000,D loss: 1.000000,G loss: 0.000000\n",
            "iter:     148000,D loss: 1.000000,G loss: 0.000000\n",
            "iter:     149000,D loss: 1.000000,G loss: 0.000000\n",
            "iter:     150000,D loss: 1.000000,G loss: 0.000000\n",
            "iter:     151000,D loss: 1.000000,G loss: 0.000000\n",
            "iter:     152000,D loss: 1.000000,G loss: 0.000000\n",
            "iter:     153000,D loss: 1.000000,G loss: 0.000000\n",
            "iter:     154000,D loss: 1.000000,G loss: 0.000000\n",
            "iter:     155000,D loss: 1.000000,G loss: 0.000000\n",
            "iter:     156000,D loss: 1.000000,G loss: 0.000000\n",
            "iter:     157000,D loss: 1.000000,G loss: 0.000000\n",
            "iter:     158000,D loss: 1.000000,G loss: 0.000000\n",
            "iter:     159000,D loss: 1.000000,G loss: 0.000000\n",
            "iter:     160000,D loss: 1.000000,G loss: 0.000000\n",
            "iter:     161000,D loss: 1.000000,G loss: 0.000000\n",
            "iter:     162000,D loss: 1.000000,G loss: 0.000000\n",
            "iter:     163000,D loss: 1.000000,G loss: 0.000000\n",
            "iter:     164000,D loss: 1.000000,G loss: 0.000000\n",
            "iter:     165000,D loss: 1.000000,G loss: 0.000000\n",
            "iter:     166000,D loss: 1.000000,G loss: 0.000000\n",
            "iter:     167000,D loss: 1.000000,G loss: 0.000000\n",
            "iter:     168000,D loss: 1.000000,G loss: 0.000000\n",
            "iter:     169000,D loss: 1.000000,G loss: 0.000000\n",
            "iter:     170000,D loss: 1.000000,G loss: 0.000000\n",
            "iter:     171000,D loss: 1.000000,G loss: 0.000000\n",
            "iter:     172000,D loss: 1.000000,G loss: 0.000000\n",
            "iter:     173000,D loss: 1.000000,G loss: 0.000000\n",
            "iter:     174000,D loss: 1.000000,G loss: 0.000000\n",
            "iter:     175000,D loss: 1.000000,G loss: 0.000000\n",
            "iter:     176000,D loss: 1.000000,G loss: 0.000000\n",
            "iter:     177000,D loss: 1.000000,G loss: 0.000000\n",
            "iter:     178000,D loss: 1.000000,G loss: 0.000000\n",
            "iter:     179000,D loss: 1.000000,G loss: 0.000000\n",
            "iter:     180000,D loss: 1.000000,G loss: 0.000000\n"
          ],
          "name": "stdout"
        }
      ]
    },
    {
      "cell_type": "code",
      "metadata": {
        "colab": {
          "base_uri": "https://localhost:8080/",
          "height": 483
        },
        "id": "XrQnBw6E3zks",
        "outputId": "181d75cc-47b5-44a2-f1d5-ffb3d0ada408"
      },
      "source": [
        "plot_progress(d_progress)"
      ],
      "execution_count": 61,
      "outputs": [
        {
          "output_type": "display_data",
          "data": {
            "image/png": "[encoded data removed]",
            "text/plain": [
              "<Figure size 1152x576 with 1 Axes>"
            ]
          },
          "metadata": {
            "tags": [],
            "needs_background": "light"
          }
        }
      ]
    },
    {
      "cell_type": "code",
      "metadata": {
        "colab": {
          "base_uri": "https://localhost:8080/",
          "height": 483
        },
        "id": "AN4Ygf6G32xD",
        "outputId": "627c7b12-cc3c-41d0-fceb-8bbe3eca0ad7"
      },
      "source": [
        "plot_progress(g_progress)"
      ],
      "execution_count": 62,
      "outputs": [
        {
          "output_type": "display_data",
          "data": {
            "image/png": "[encoded data removed]",
            "text/plain": [
              "<Figure size 1152x576 with 1 Axes>"
            ]
          },
          "metadata": {
            "tags": [],
            "needs_background": "light"
          }
        }
      ]
    },
    {
      "cell_type": "code",
      "metadata": {
        "colab": {
          "base_uri": "https://localhost:8080/",
          "height": 485
        },
        "id": "rnPaSnFCy9i2",
        "outputId": "a3ed88b4-b97c-4383-be2d-ed393e4f9014"
      },
      "source": [
        "f, axarr = plt.subplots(nrows=4, ncols=4, figsize=(16,8))\n",
        "for i in range(4):\n",
        "  for j in range(4):\n",
        "    output = G.forward(torch.rand(1, device=device))\n",
        "    img = output.detach().cpu().numpy().reshape(28,28)\n",
        "    axarr[i,j].imshow(img, interpolation=\"none\", cmap=\"Blues\")\n",
        "    pass\n",
        "  pass"
      ],
      "execution_count": 70,
      "outputs": [
        {
          "output_type": "display_data",
          "data": {
            "image/png": "[encoded data removed]",
            "text/plain": [
              "<Figure size 1152x576 with 16 Axes>"
            ]
          },
          "metadata": {
            "tags": [],
            "needs_background": "light"
          }
        }
      ]
    },
    {
      "cell_type": "markdown",
      "metadata": {
        "id": "4HxrGonTAkP9"
      },
      "source": [
        "This is called Mode Colapse. When GAN is producing similar image over and over again. "
      ]
    },
    {
      "cell_type": "code",
      "metadata": {
        "colab": {
          "base_uri": "https://localhost:8080/"
        },
        "id": "GLZ_LkQW4kZ_",
        "outputId": "89567114-bde9-4496-a4f3-06353b2cd19d"
      },
      "source": [
        "D(torch.rand(784))"
      ],
      "execution_count": 68,
      "outputs": [
        {
          "output_type": "execute_result",
          "data": {
            "text/plain": [
              "tensor([5.2479e-06], grad_fn=<SigmoidBackward>)"
            ]
          },
          "metadata": {
            "tags": []
          },
          "execution_count": 68
        }
      ]
    },
    {
      "cell_type": "markdown",
      "metadata": {
        "id": "N8qVgX376BaK"
      },
      "source": [
        "In our case generator outperforms discriminator, but generates similar images without definite shape.\n",
        "\n",
        "### Improving generator\n",
        "\n",
        "- increase size of inputs features from 1 to 100\n",
        "- normalize the input noise. Before - uniform dist 0 to 1, now normal distribution"
      ]
    },
    {
      "cell_type": "code",
      "metadata": {
        "id": "TVSZrRT05BlY"
      },
      "source": [
        "class Generator(nn.Module):\n",
        "\n",
        "  def __init__(self):\n",
        "    super().__init__()\n",
        "\n",
        "    self.model = nn.Sequential(\n",
        "        nn.Linear(100,200),\n",
        "        nn.LeakyReLU(0.02),\n",
        "        nn.LayerNorm(200),\n",
        "        nn.Linear(200,784),\n",
        "        nn.Sigmoid()\n",
        "    )\n",
        "\n",
        "  def forward(self, inputs):\n",
        "    return self.model(inputs)"
      ],
      "execution_count": 73,
      "outputs": []
    },
    {
      "cell_type": "code",
      "metadata": {
        "id": "lib00e2X61zr"
      },
      "source": [
        "def train_generator(D, G, criterion, d_optim, g_optim, epochs):\n",
        "\n",
        "  counter = 0\n",
        "  d_progress = []\n",
        "  g_progress = []\n",
        "\n",
        "  for epoch in range(epochs):\n",
        "\n",
        "    for label, inputs, target in train_ds:\n",
        "\n",
        "      counter += 1\n",
        "\n",
        "      # STEP 1\n",
        "      # train discriminator on real\n",
        "      inputs = inputs.to(device)\n",
        "      outputs = D(inputs)\n",
        "      \n",
        "      real = torch.tensor([1.0], dtype=torch.float, device = device) \n",
        "      loss = criterion(outputs, real)\n",
        "\n",
        "      # update discriminator weights\n",
        "      d_optim.zero_grad()\n",
        "      loss.backward()\n",
        "      d_optim.step()\n",
        "\n",
        "      # STEP 2\n",
        "      # train discriminator on generated image\n",
        "\n",
        "      #####################\n",
        "      #.       NEW.       #\n",
        "      #####################\n",
        "      seed = torch.randn(100, device=device) # normal dist\n",
        "      inputs = G(seed).detach()\n",
        "\n",
        "      outputs = D(inputs)\n",
        "\n",
        "      fake = torch.tensor([0.0], dtype=torch.float, device=device)\n",
        "      loss = criterion(outputs, fake)\n",
        "\n",
        "      # update discriminator weights\n",
        "      d_optim.zero_grad()\n",
        "      loss.backward()\n",
        "      d_optim.step()\n",
        "\n",
        "      if counter % 10 == 0:\n",
        "        d_progress.append(loss.item())\n",
        "\n",
        "      # STEP 3\n",
        "      # train generator\n",
        "\n",
        "      #####################\n",
        "      #.       NEW.       #\n",
        "      #####################\n",
        "      seed = torch.randn(100, device=device) # normal dist\n",
        "      inputs = G(seed)\n",
        "      outputs = D(inputs)\n",
        "\n",
        "      loss = criterion(outputs, real)\n",
        "\n",
        "      # update generator weights\n",
        "      g_optim.zero_grad()\n",
        "      loss.backward()\n",
        "      g_optim.step()\n",
        "\n",
        "      if counter % 10 == 0:\n",
        "        g_progress.append(loss.item())\n",
        "\n",
        "      if counter % 1000 == 0:\n",
        "        print(f\"iter: {counter:8}, \" +\n",
        "              f\"D loss: {d_progress[-1]:8.6f}, \" +\n",
        "              f\"G loss: {g_progress[-1]:8.6f}\")\n",
        "\n",
        "      # early stopping    \n",
        "      if epoch > 2 and d_progress[-1] > 0.99:\n",
        "        break\n",
        "        \n",
        "  return D, G, d_progress, g_progress"
      ],
      "execution_count": 85,
      "outputs": []
    },
    {
      "cell_type": "code",
      "metadata": {
        "id": "b5t5YaXz8TTq"
      },
      "source": [
        "G = Generator()\n",
        "G = G.to(device)\n",
        "\n",
        "D = Discriminator()\n",
        "D = D.to(device)\n",
        "\n",
        "criterion = nn.BCELoss()\n",
        "\n",
        "g_optim = torch.optim.Adam(G.parameters(), lr=0.0001)\n",
        "d_optim = torch.optim.Adam(D.parameters(), lr=0.0001)\n",
        "\n",
        "epochs = 4\n",
        "\n",
        "params = {\n",
        "    \"D\" : D,\n",
        "    \"G\" : G,\n",
        "    \"criterion\" : criterion,\n",
        "    \"d_optim\" : d_optim,\n",
        "    \"g_optim\" : g_optim,\n",
        "    \"epochs\" : epochs\n",
        "}"
      ],
      "execution_count": 86,
      "outputs": []
    },
    {
      "cell_type": "code",
      "metadata": {
        "colab": {
          "base_uri": "https://localhost:8080/"
        },
        "id": "57aIj8xX8t2C",
        "outputId": "ad880ae4-f9a3-41a8-cfc2-24f45c33b10c"
      },
      "source": [
        "D, G, d_progress, g_progress = train_generator(**params)"
      ],
      "execution_count": 87,
      "outputs": [
        {
          "output_type": "stream",
          "text": [
            "iter:     1000, D loss: 0.000283, G loss: 8.145088\n",
            "iter:     2000, D loss: 0.000310, G loss: 4.874806\n",
            "iter:     3000, D loss: 0.022025, G loss: 3.961811\n",
            "iter:     4000, D loss: 0.017766, G loss: 3.554852\n",
            "iter:     5000, D loss: 0.022812, G loss: 4.050885\n",
            "iter:     6000, D loss: 0.010909, G loss: 4.263762\n",
            "iter:     7000, D loss: 0.110287, G loss: 2.996713\n",
            "iter:     8000, D loss: 0.012084, G loss: 5.044606\n",
            "iter:     9000, D loss: 0.006200, G loss: 4.937600\n",
            "iter:    10000, D loss: 0.002304, G loss: 6.250927\n",
            "iter:    11000, D loss: 0.001254, G loss: 5.984696\n",
            "iter:    12000, D loss: 0.003402, G loss: 3.119179\n",
            "iter:    13000, D loss: 0.026512, G loss: 3.989574\n",
            "iter:    14000, D loss: 0.002277, G loss: 1.187912\n",
            "iter:    15000, D loss: 0.008855, G loss: 4.773542\n",
            "iter:    16000, D loss: 0.451981, G loss: 0.747234\n",
            "iter:    17000, D loss: 2.105039, G loss: 3.132871\n",
            "iter:    18000, D loss: 0.017090, G loss: 4.321963\n",
            "iter:    19000, D loss: 0.005912, G loss: 5.372669\n",
            "iter:    20000, D loss: 0.002030, G loss: 3.496958\n",
            "iter:    21000, D loss: 0.042295, G loss: 1.439141\n",
            "iter:    22000, D loss: 0.015340, G loss: 2.396438\n",
            "iter:    23000, D loss: 0.002111, G loss: 3.953074\n",
            "iter:    24000, D loss: 0.191487, G loss: 5.134714\n",
            "iter:    25000, D loss: 0.001303, G loss: 5.096868\n",
            "iter:    26000, D loss: 0.031507, G loss: 2.525925\n",
            "iter:    27000, D loss: 0.027133, G loss: 3.834304\n",
            "iter:    28000, D loss: 0.030567, G loss: 3.402133\n",
            "iter:    29000, D loss: 0.000689, G loss: 6.751102\n",
            "iter:    30000, D loss: 0.010606, G loss: 3.232616\n",
            "iter:    31000, D loss: 0.036318, G loss: 0.715268\n",
            "iter:    32000, D loss: 0.002908, G loss: 3.325845\n",
            "iter:    33000, D loss: 0.036461, G loss: 4.266842\n",
            "iter:    34000, D loss: 0.043076, G loss: 4.324648\n",
            "iter:    35000, D loss: 0.000439, G loss: 2.983149\n",
            "iter:    36000, D loss: 0.005083, G loss: 0.325920\n",
            "iter:    37000, D loss: 0.001855, G loss: 2.288893\n",
            "iter:    38000, D loss: 2.647361, G loss: 5.789833\n",
            "iter:    39000, D loss: 0.011652, G loss: 3.512474\n",
            "iter:    40000, D loss: 0.115434, G loss: 1.023198\n",
            "iter:    41000, D loss: 1.043010, G loss: 6.114767\n",
            "iter:    42000, D loss: 0.044851, G loss: 0.835321\n",
            "iter:    43000, D loss: 0.183771, G loss: 5.065754\n",
            "iter:    44000, D loss: 0.028097, G loss: 4.293908\n",
            "iter:    45000, D loss: 0.280258, G loss: 0.979680\n",
            "iter:    46000, D loss: 0.020091, G loss: 2.632585\n",
            "iter:    47000, D loss: 0.008107, G loss: 4.821489\n",
            "iter:    48000, D loss: 0.097621, G loss: 4.848480\n",
            "iter:    49000, D loss: 0.065599, G loss: 1.577609\n",
            "iter:    50000, D loss: 0.003096, G loss: 6.282064\n",
            "iter:    51000, D loss: 0.921370, G loss: 2.051656\n",
            "iter:    52000, D loss: 0.260066, G loss: 3.797276\n",
            "iter:    53000, D loss: 0.003826, G loss: 4.335116\n",
            "iter:    54000, D loss: 1.453884, G loss: 1.771192\n",
            "iter:    55000, D loss: 0.001603, G loss: 3.782013\n",
            "iter:    56000, D loss: 0.412494, G loss: 7.432332\n",
            "iter:    57000, D loss: 0.000797, G loss: 4.815972\n",
            "iter:    58000, D loss: 0.002537, G loss: 0.679525\n",
            "iter:    59000, D loss: 0.001056, G loss: 4.457362\n",
            "iter:    60000, D loss: 2.407671, G loss: 5.470312\n",
            "iter:    61000, D loss: 0.025660, G loss: 7.677043\n",
            "iter:    62000, D loss: 0.006714, G loss: 4.293408\n",
            "iter:    63000, D loss: 0.211134, G loss: 9.811682\n",
            "iter:    64000, D loss: 0.414953, G loss: 3.714256\n",
            "iter:    65000, D loss: 0.928250, G loss: 5.104211\n",
            "iter:    66000, D loss: 0.196791, G loss: 2.364431\n",
            "iter:    67000, D loss: 0.001491, G loss: 3.254446\n",
            "iter:    68000, D loss: 0.001048, G loss: 4.979564\n",
            "iter:    69000, D loss: 0.008848, G loss: 2.938262\n",
            "iter:    70000, D loss: 0.076739, G loss: 8.382212\n",
            "iter:    71000, D loss: 0.168710, G loss: 2.428060\n",
            "iter:    72000, D loss: 0.048346, G loss: 1.944232\n",
            "iter:    73000, D loss: 0.037146, G loss: 0.748615\n",
            "iter:    74000, D loss: 0.212079, G loss: 5.495224\n",
            "iter:    75000, D loss: 0.002795, G loss: 3.083519\n",
            "iter:    76000, D loss: 0.013812, G loss: 5.499789\n",
            "iter:    77000, D loss: 0.109028, G loss: 4.160418\n",
            "iter:    78000, D loss: 0.014996, G loss: 2.259847\n",
            "iter:    79000, D loss: 0.008176, G loss: 6.179182\n",
            "iter:    80000, D loss: 0.005213, G loss: 6.022322\n",
            "iter:    81000, D loss: 0.000484, G loss: 6.456905\n",
            "iter:    82000, D loss: 0.333834, G loss: 3.455866\n",
            "iter:    83000, D loss: 0.044924, G loss: 3.425246\n",
            "iter:    84000, D loss: 0.029004, G loss: 0.324118\n",
            "iter:    85000, D loss: 0.010309, G loss: 0.353465\n",
            "iter:    86000, D loss: 0.017311, G loss: 6.813701\n",
            "iter:    87000, D loss: 0.001145, G loss: 1.547972\n",
            "iter:    88000, D loss: 0.020901, G loss: 2.491535\n",
            "iter:    89000, D loss: 0.014674, G loss: 1.489279\n",
            "iter:    90000, D loss: 0.214198, G loss: 6.651599\n",
            "iter:    91000, D loss: 0.447313, G loss: 4.161211\n",
            "iter:    92000, D loss: 0.002264, G loss: 1.160468\n",
            "iter:    93000, D loss: 0.023839, G loss: 2.354525\n",
            "iter:    94000, D loss: 2.188825, G loss: 2.890311\n",
            "iter:    95000, D loss: 0.392098, G loss: 3.463714\n",
            "iter:    96000, D loss: 0.037301, G loss: 5.524219\n",
            "iter:    97000, D loss: 0.929257, G loss: 1.453992\n",
            "iter:    98000, D loss: 0.001528, G loss: 1.177562\n",
            "iter:    99000, D loss: 0.004369, G loss: 1.601963\n",
            "iter:   100000, D loss: 0.012013, G loss: 1.225511\n",
            "iter:   101000, D loss: 0.001099, G loss: 2.209867\n",
            "iter:   102000, D loss: 1.018572, G loss: 0.905694\n",
            "iter:   103000, D loss: 0.035201, G loss: 4.413389\n",
            "iter:   104000, D loss: 0.032307, G loss: 4.565458\n",
            "iter:   105000, D loss: 1.548177, G loss: 2.071472\n",
            "iter:   106000, D loss: 0.001677, G loss: 2.408486\n",
            "iter:   107000, D loss: 0.063352, G loss: 2.611474\n",
            "iter:   108000, D loss: 0.094359, G loss: 3.463790\n",
            "iter:   109000, D loss: 0.009357, G loss: 1.195603\n",
            "iter:   110000, D loss: 0.079996, G loss: 3.900021\n",
            "iter:   111000, D loss: 0.375619, G loss: 1.987711\n",
            "iter:   112000, D loss: 0.106153, G loss: 0.964950\n",
            "iter:   113000, D loss: 0.254570, G loss: 3.899594\n",
            "iter:   114000, D loss: 0.822020, G loss: 3.544045\n",
            "iter:   115000, D loss: 0.579165, G loss: 3.188250\n",
            "iter:   116000, D loss: 0.009865, G loss: 5.079170\n",
            "iter:   117000, D loss: 0.564564, G loss: 5.143430\n",
            "iter:   118000, D loss: 0.092925, G loss: 2.887893\n",
            "iter:   119000, D loss: 0.402565, G loss: 4.734716\n",
            "iter:   120000, D loss: 0.044953, G loss: 0.004917\n",
            "iter:   121000, D loss: 0.011533, G loss: 4.238356\n",
            "iter:   122000, D loss: 0.009161, G loss: 2.030159\n",
            "iter:   123000, D loss: 0.060860, G loss: 3.029118\n",
            "iter:   124000, D loss: 0.862953, G loss: 4.279810\n",
            "iter:   125000, D loss: 0.384626, G loss: 1.443529\n",
            "iter:   126000, D loss: 0.045119, G loss: 4.891822\n",
            "iter:   127000, D loss: 0.039246, G loss: 3.469623\n",
            "iter:   128000, D loss: 0.009905, G loss: 4.056367\n",
            "iter:   129000, D loss: 0.108005, G loss: 1.667862\n",
            "iter:   130000, D loss: 0.077672, G loss: 8.952826\n",
            "iter:   131000, D loss: 0.256878, G loss: 0.436372\n",
            "iter:   132000, D loss: 0.261142, G loss: 0.068390\n",
            "iter:   133000, D loss: 0.015885, G loss: 1.077563\n",
            "iter:   134000, D loss: 0.754844, G loss: 4.836892\n",
            "iter:   135000, D loss: 0.593020, G loss: 4.571970\n",
            "iter:   136000, D loss: 0.032710, G loss: 2.766629\n",
            "iter:   137000, D loss: 0.045244, G loss: 1.445579\n",
            "iter:   138000, D loss: 0.045778, G loss: 1.143211\n",
            "iter:   139000, D loss: 0.764387, G loss: 1.674486\n",
            "iter:   140000, D loss: 0.001558, G loss: 4.275547\n",
            "iter:   141000, D loss: 0.012259, G loss: 3.580274\n",
            "iter:   142000, D loss: 0.039255, G loss: 4.314404\n",
            "iter:   143000, D loss: 0.066507, G loss: 3.293873\n",
            "iter:   144000, D loss: 0.596868, G loss: 3.158470\n",
            "iter:   145000, D loss: 0.042776, G loss: 1.852425\n",
            "iter:   146000, D loss: 0.452006, G loss: 1.399842\n",
            "iter:   147000, D loss: 0.011477, G loss: 7.256326\n",
            "iter:   148000, D loss: 0.018342, G loss: 1.235274\n",
            "iter:   149000, D loss: 0.000989, G loss: 4.859414\n",
            "iter:   150000, D loss: 0.040630, G loss: 1.644194\n",
            "iter:   151000, D loss: 0.113535, G loss: 3.215266\n",
            "iter:   152000, D loss: 0.636154, G loss: 3.657629\n",
            "iter:   153000, D loss: 0.076672, G loss: 2.283884\n",
            "iter:   154000, D loss: 0.305109, G loss: 2.165525\n",
            "iter:   155000, D loss: 0.025006, G loss: 3.806298\n",
            "iter:   156000, D loss: 0.147793, G loss: 5.643408\n",
            "iter:   157000, D loss: 0.134329, G loss: 0.926706\n",
            "iter:   158000, D loss: 0.165491, G loss: 4.808868\n",
            "iter:   159000, D loss: 0.107514, G loss: 3.611662\n",
            "iter:   160000, D loss: 0.012481, G loss: 3.578256\n",
            "iter:   161000, D loss: 0.161050, G loss: 2.618554\n",
            "iter:   162000, D loss: 0.050581, G loss: 2.306865\n",
            "iter:   163000, D loss: 0.047531, G loss: 1.821478\n",
            "iter:   164000, D loss: 0.289503, G loss: 1.034417\n",
            "iter:   165000, D loss: 0.339847, G loss: 2.392632\n",
            "iter:   166000, D loss: 0.139958, G loss: 4.225006\n",
            "iter:   167000, D loss: 0.114834, G loss: 1.392161\n",
            "iter:   168000, D loss: 0.494508, G loss: 4.858465\n",
            "iter:   169000, D loss: 0.279085, G loss: 3.220490\n",
            "iter:   170000, D loss: 0.022388, G loss: 2.032268\n",
            "iter:   171000, D loss: 0.558901, G loss: 3.354836\n",
            "iter:   172000, D loss: 0.060052, G loss: 0.319068\n",
            "iter:   173000, D loss: 0.081839, G loss: 2.188983\n",
            "iter:   174000, D loss: 0.327917, G loss: 4.075175\n",
            "iter:   175000, D loss: 0.003362, G loss: 0.661966\n",
            "iter:   176000, D loss: 0.025403, G loss: 5.581697\n",
            "iter:   177000, D loss: 0.023606, G loss: 3.562213\n",
            "iter:   178000, D loss: 0.073945, G loss: 0.900452\n",
            "iter:   179000, D loss: 0.001211, G loss: 3.199847\n",
            "iter:   180000, D loss: 0.003159, G loss: 6.100988\n"
          ],
          "name": "stdout"
        }
      ]
    },
    {
      "cell_type": "code",
      "metadata": {
        "colab": {
          "base_uri": "https://localhost:8080/",
          "height": 486
        },
        "id": "g42FKnnz8xc9",
        "outputId": "86c33e02-ea36-4d0f-85d1-6d8c35b25b30"
      },
      "source": [
        "f, axarr = plt.subplots(nrows=8, ncols=8, figsize=(16,8))\n",
        "for i in range(8):\n",
        "  for j in range(8):\n",
        "    output = G.forward(torch.rand(100, device=device))\n",
        "    img = output.detach().cpu().numpy().reshape(28,28)\n",
        "    axarr[i,j].imshow(img, interpolation=\"none\", cmap=\"Blues\")\n",
        "    pass\n",
        "  pass"
      ],
      "execution_count": 89,
      "outputs": [
        {
          "output_type": "display_data",
          "data": {
            "image/png": "[encoded data removed]",
            "text/plain": [
              "<Figure size 1152x576 with 64 Axes>"
            ]
          },
          "metadata": {
            "tags": [],
            "needs_background": "light"
          }
        }
      ]
    },
    {
      "cell_type": "code",
      "metadata": {
        "id": "HArTLn2h-eEW"
      },
      "source": [
        ""
      ],
      "execution_count": null,
      "outputs": []
    }
  ]
}